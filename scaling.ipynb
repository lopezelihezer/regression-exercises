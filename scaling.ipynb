{
 "cells": [
  {
   "cell_type": "code",
   "execution_count": 1,
   "id": "9d4df4c6-91ed-42f8-9000-b6fe943c282a",
   "metadata": {},
   "outputs": [],
   "source": [
    "import warnings\n",
    "warnings.filterwarnings(\"ignore\")\n",
    "\n",
    "import matplotlib.pyplot as plt\n",
    "import seaborn as sns\n",
    "\n",
    "import pandas as pd\n",
    "import numpy as np\n",
    "import os\n",
    "from env import host, user, password\n",
    "import wrangle"
   ]
  },
  {
   "cell_type": "code",
   "execution_count": 2,
   "id": "78c429ad-8dd6-43c1-b609-39720afd4364",
   "metadata": {},
   "outputs": [
    {
     "data": {
      "text/html": [
       "<div>\n",
       "<style scoped>\n",
       "    .dataframe tbody tr th:only-of-type {\n",
       "        vertical-align: middle;\n",
       "    }\n",
       "\n",
       "    .dataframe tbody tr th {\n",
       "        vertical-align: top;\n",
       "    }\n",
       "\n",
       "    .dataframe thead th {\n",
       "        text-align: right;\n",
       "    }\n",
       "</style>\n",
       "<table border=\"1\" class=\"dataframe\">\n",
       "  <thead>\n",
       "    <tr style=\"text-align: right;\">\n",
       "      <th></th>\n",
       "      <th>bedroomcnt</th>\n",
       "      <th>bathroomcnt</th>\n",
       "      <th>taxvaluedollarcnt</th>\n",
       "      <th>yearbuilt</th>\n",
       "      <th>taxamount</th>\n",
       "      <th>fips</th>\n",
       "      <th>calfinishedsqft</th>\n",
       "    </tr>\n",
       "  </thead>\n",
       "  <tbody>\n",
       "    <tr>\n",
       "      <th>4</th>\n",
       "      <td>4.0</td>\n",
       "      <td>2.0</td>\n",
       "      <td>296425.0</td>\n",
       "      <td>2005.0</td>\n",
       "      <td>6941.39</td>\n",
       "      <td>6037.0</td>\n",
       "      <td>3633.0</td>\n",
       "    </tr>\n",
       "    <tr>\n",
       "      <th>7</th>\n",
       "      <td>3.0</td>\n",
       "      <td>2.0</td>\n",
       "      <td>646760.0</td>\n",
       "      <td>1926.0</td>\n",
       "      <td>7924.68</td>\n",
       "      <td>6037.0</td>\n",
       "      <td>2077.0</td>\n",
       "    </tr>\n",
       "    <tr>\n",
       "      <th>18</th>\n",
       "      <td>3.0</td>\n",
       "      <td>1.0</td>\n",
       "      <td>169471.0</td>\n",
       "      <td>1950.0</td>\n",
       "      <td>2532.88</td>\n",
       "      <td>6037.0</td>\n",
       "      <td>1244.0</td>\n",
       "    </tr>\n",
       "    <tr>\n",
       "      <th>19</th>\n",
       "      <td>3.0</td>\n",
       "      <td>2.0</td>\n",
       "      <td>233266.0</td>\n",
       "      <td>1950.0</td>\n",
       "      <td>3110.99</td>\n",
       "      <td>6037.0</td>\n",
       "      <td>1300.0</td>\n",
       "    </tr>\n",
       "    <tr>\n",
       "      <th>20</th>\n",
       "      <td>3.0</td>\n",
       "      <td>2.0</td>\n",
       "      <td>290492.0</td>\n",
       "      <td>1951.0</td>\n",
       "      <td>3870.25</td>\n",
       "      <td>6037.0</td>\n",
       "      <td>1222.0</td>\n",
       "    </tr>\n",
       "    <tr>\n",
       "      <th>...</th>\n",
       "      <td>...</td>\n",
       "      <td>...</td>\n",
       "      <td>...</td>\n",
       "      <td>...</td>\n",
       "      <td>...</td>\n",
       "      <td>...</td>\n",
       "      <td>...</td>\n",
       "    </tr>\n",
       "    <tr>\n",
       "      <th>2152852</th>\n",
       "      <td>3.0</td>\n",
       "      <td>2.0</td>\n",
       "      <td>408680.0</td>\n",
       "      <td>1946.0</td>\n",
       "      <td>4341.32</td>\n",
       "      <td>6111.0</td>\n",
       "      <td>1917.0</td>\n",
       "    </tr>\n",
       "    <tr>\n",
       "      <th>2152853</th>\n",
       "      <td>4.0</td>\n",
       "      <td>2.0</td>\n",
       "      <td>259913.0</td>\n",
       "      <td>1955.0</td>\n",
       "      <td>3175.66</td>\n",
       "      <td>6059.0</td>\n",
       "      <td>1987.0</td>\n",
       "    </tr>\n",
       "    <tr>\n",
       "      <th>2152855</th>\n",
       "      <td>3.0</td>\n",
       "      <td>2.5</td>\n",
       "      <td>405547.0</td>\n",
       "      <td>2012.0</td>\n",
       "      <td>4181.10</td>\n",
       "      <td>6059.0</td>\n",
       "      <td>1809.0</td>\n",
       "    </tr>\n",
       "    <tr>\n",
       "      <th>2152858</th>\n",
       "      <td>4.0</td>\n",
       "      <td>3.0</td>\n",
       "      <td>960756.0</td>\n",
       "      <td>2015.0</td>\n",
       "      <td>13494.52</td>\n",
       "      <td>6059.0</td>\n",
       "      <td>2262.0</td>\n",
       "    </tr>\n",
       "    <tr>\n",
       "      <th>2152861</th>\n",
       "      <td>3.0</td>\n",
       "      <td>2.5</td>\n",
       "      <td>424353.0</td>\n",
       "      <td>2015.0</td>\n",
       "      <td>5302.70</td>\n",
       "      <td>6059.0</td>\n",
       "      <td>1974.0</td>\n",
       "    </tr>\n",
       "  </tbody>\n",
       "</table>\n",
       "<p>1854141 rows × 7 columns</p>\n",
       "</div>"
      ],
      "text/plain": [
       "         bedroomcnt  bathroomcnt  taxvaluedollarcnt  yearbuilt  taxamount  \\\n",
       "4               4.0          2.0           296425.0     2005.0    6941.39   \n",
       "7               3.0          2.0           646760.0     1926.0    7924.68   \n",
       "18              3.0          1.0           169471.0     1950.0    2532.88   \n",
       "19              3.0          2.0           233266.0     1950.0    3110.99   \n",
       "20              3.0          2.0           290492.0     1951.0    3870.25   \n",
       "...             ...          ...                ...        ...        ...   \n",
       "2152852         3.0          2.0           408680.0     1946.0    4341.32   \n",
       "2152853         4.0          2.0           259913.0     1955.0    3175.66   \n",
       "2152855         3.0          2.5           405547.0     2012.0    4181.10   \n",
       "2152858         4.0          3.0           960756.0     2015.0   13494.52   \n",
       "2152861         3.0          2.5           424353.0     2015.0    5302.70   \n",
       "\n",
       "           fips  calfinishedsqft  \n",
       "4        6037.0           3633.0  \n",
       "7        6037.0           2077.0  \n",
       "18       6037.0           1244.0  \n",
       "19       6037.0           1300.0  \n",
       "20       6037.0           1222.0  \n",
       "...         ...              ...  \n",
       "2152852  6111.0           1917.0  \n",
       "2152853  6059.0           1987.0  \n",
       "2152855  6059.0           1809.0  \n",
       "2152858  6059.0           2262.0  \n",
       "2152861  6059.0           1974.0  \n",
       "\n",
       "[1854141 rows x 7 columns]"
      ]
     },
     "execution_count": 2,
     "metadata": {},
     "output_type": "execute_result"
    }
   ],
   "source": [
    "df = wrangle.wrangle_zillow()\n",
    "df"
   ]
  },
  {
   "cell_type": "code",
   "execution_count": 3,
   "id": "45e2a963-c49e-42fe-b121-62ddc805bce8",
   "metadata": {},
   "outputs": [
    {
     "data": {
      "text/plain": [
       "(1854141, 7)"
      ]
     },
     "execution_count": 3,
     "metadata": {},
     "output_type": "execute_result"
    }
   ],
   "source": [
    "df.shape"
   ]
  },
  {
   "cell_type": "code",
   "execution_count": 4,
   "id": "5b8b0de1-6a83-4e03-a310-a0022072e7c0",
   "metadata": {},
   "outputs": [
    {
     "data": {
      "text/plain": [
       "dtype('O')"
      ]
     },
     "execution_count": 4,
     "metadata": {},
     "output_type": "execute_result"
    }
   ],
   "source": [
    "df.yearbuilt = df.yearbuilt.astype('object')\n",
    "df.yearbuilt.dtypes"
   ]
  },
  {
   "cell_type": "code",
   "execution_count": 5,
   "id": "61db2f78-0de4-4018-99b6-9667515e62f5",
   "metadata": {},
   "outputs": [
    {
     "data": {
      "text/plain": [
       "dtype('O')"
      ]
     },
     "execution_count": 5,
     "metadata": {},
     "output_type": "execute_result"
    }
   ],
   "source": [
    "df.fips = df.fips.astype('object')\n",
    "df.fips.dtypes"
   ]
  },
  {
   "cell_type": "code",
   "execution_count": 6,
   "id": "c6137b7f-ff42-4431-9b21-b2e1c7579579",
   "metadata": {},
   "outputs": [
    {
     "name": "stdout",
     "output_type": "stream",
     "text": [
      "<class 'pandas.core.frame.DataFrame'>\n",
      "Int64Index: 1854141 entries, 4 to 2152861\n",
      "Data columns (total 7 columns):\n",
      " #   Column             Dtype  \n",
      "---  ------             -----  \n",
      " 0   bedroomcnt         float64\n",
      " 1   bathroomcnt        float64\n",
      " 2   taxvaluedollarcnt  float64\n",
      " 3   yearbuilt          object \n",
      " 4   taxamount          float64\n",
      " 5   fips               object \n",
      " 6   calfinishedsqft    float64\n",
      "dtypes: float64(5), object(2)\n",
      "memory usage: 113.2+ MB\n"
     ]
    }
   ],
   "source": [
    "df.info()"
   ]
  },
  {
   "cell_type": "code",
   "execution_count": 7,
   "id": "df0e1ded-bfcd-4100-b5c2-9751ff573a43",
   "metadata": {},
   "outputs": [
    {
     "data": {
      "text/html": [
       "<div>\n",
       "<style scoped>\n",
       "    .dataframe tbody tr th:only-of-type {\n",
       "        vertical-align: middle;\n",
       "    }\n",
       "\n",
       "    .dataframe tbody tr th {\n",
       "        vertical-align: top;\n",
       "    }\n",
       "\n",
       "    .dataframe thead th {\n",
       "        text-align: right;\n",
       "    }\n",
       "</style>\n",
       "<table border=\"1\" class=\"dataframe\">\n",
       "  <thead>\n",
       "    <tr style=\"text-align: right;\">\n",
       "      <th></th>\n",
       "      <th>bedroomcnt</th>\n",
       "      <th>bathroomcnt</th>\n",
       "      <th>yearbuilt</th>\n",
       "      <th>taxamount</th>\n",
       "      <th>fips</th>\n",
       "      <th>calfinishedsqft</th>\n",
       "      <th>tax_value</th>\n",
       "    </tr>\n",
       "  </thead>\n",
       "  <tbody>\n",
       "    <tr>\n",
       "      <th>4</th>\n",
       "      <td>4.0</td>\n",
       "      <td>2.0</td>\n",
       "      <td>2005.0</td>\n",
       "      <td>6941.39</td>\n",
       "      <td>6037.0</td>\n",
       "      <td>3633.0</td>\n",
       "      <td>296425.0</td>\n",
       "    </tr>\n",
       "    <tr>\n",
       "      <th>7</th>\n",
       "      <td>3.0</td>\n",
       "      <td>2.0</td>\n",
       "      <td>1926.0</td>\n",
       "      <td>7924.68</td>\n",
       "      <td>6037.0</td>\n",
       "      <td>2077.0</td>\n",
       "      <td>646760.0</td>\n",
       "    </tr>\n",
       "    <tr>\n",
       "      <th>18</th>\n",
       "      <td>3.0</td>\n",
       "      <td>1.0</td>\n",
       "      <td>1950.0</td>\n",
       "      <td>2532.88</td>\n",
       "      <td>6037.0</td>\n",
       "      <td>1244.0</td>\n",
       "      <td>169471.0</td>\n",
       "    </tr>\n",
       "    <tr>\n",
       "      <th>19</th>\n",
       "      <td>3.0</td>\n",
       "      <td>2.0</td>\n",
       "      <td>1950.0</td>\n",
       "      <td>3110.99</td>\n",
       "      <td>6037.0</td>\n",
       "      <td>1300.0</td>\n",
       "      <td>233266.0</td>\n",
       "    </tr>\n",
       "    <tr>\n",
       "      <th>20</th>\n",
       "      <td>3.0</td>\n",
       "      <td>2.0</td>\n",
       "      <td>1951.0</td>\n",
       "      <td>3870.25</td>\n",
       "      <td>6037.0</td>\n",
       "      <td>1222.0</td>\n",
       "      <td>290492.0</td>\n",
       "    </tr>\n",
       "  </tbody>\n",
       "</table>\n",
       "</div>"
      ],
      "text/plain": [
       "    bedroomcnt  bathroomcnt yearbuilt  taxamount    fips  calfinishedsqft  \\\n",
       "4          4.0          2.0    2005.0    6941.39  6037.0           3633.0   \n",
       "7          3.0          2.0    1926.0    7924.68  6037.0           2077.0   \n",
       "18         3.0          1.0    1950.0    2532.88  6037.0           1244.0   \n",
       "19         3.0          2.0    1950.0    3110.99  6037.0           1300.0   \n",
       "20         3.0          2.0    1951.0    3870.25  6037.0           1222.0   \n",
       "\n",
       "    tax_value  \n",
       "4    296425.0  \n",
       "7    646760.0  \n",
       "18   169471.0  \n",
       "19   233266.0  \n",
       "20   290492.0  "
      ]
     },
     "execution_count": 7,
     "metadata": {},
     "output_type": "execute_result"
    }
   ],
   "source": [
    "df['tax_value'] = df.taxvaluedollarcnt\n",
    "df = df.drop(columns='taxvaluedollarcnt')\n",
    "df.head()"
   ]
  },
  {
   "cell_type": "code",
   "execution_count": 8,
   "id": "c02bc124-5347-4097-aa3b-cee53a227983",
   "metadata": {},
   "outputs": [
    {
     "name": "stdout",
     "output_type": "stream",
     "text": [
      "<class 'pandas.core.frame.DataFrame'>\n",
      "Int64Index: 1854141 entries, 4 to 2152861\n",
      "Data columns (total 7 columns):\n",
      " #   Column           Dtype  \n",
      "---  ------           -----  \n",
      " 0   bedroomcnt       float64\n",
      " 1   bathroomcnt      float64\n",
      " 2   yearbuilt        object \n",
      " 3   taxamount        float64\n",
      " 4   fips             object \n",
      " 5   calfinishedsqft  float64\n",
      " 6   tax_value        float64\n",
      "dtypes: float64(5), object(2)\n",
      "memory usage: 113.2+ MB\n"
     ]
    }
   ],
   "source": [
    "df.info()"
   ]
  },
  {
   "cell_type": "code",
   "execution_count": 9,
   "id": "c666ec20-86aa-47ed-98b2-7fc0402a5681",
   "metadata": {},
   "outputs": [],
   "source": [
    "def remove_outliers(df, k, col_list):\n",
    "    ''' remove outliers from a list of columns in a dataframe \n",
    "        and return that dataframe\n",
    "    '''\n",
    "    \n",
    "    for col in col_list:\n",
    "\n",
    "        q1, q3 = df[col].quantile([.25, .75])  # get quartiles\n",
    "        \n",
    "        iqr = q3 - q1   # calculate interquartile range\n",
    "        \n",
    "        upper_bound = q3 + k * iqr   # get upper bound\n",
    "        lower_bound = q1 - k * iqr   # get lower bound\n",
    "\n",
    "        # return dataframe without outliers\n",
    "        \n",
    "        df = df[(df[col] > lower_bound) & (df[col] < upper_bound)]\n",
    "        \n",
    "    return df"
   ]
  },
  {
   "cell_type": "code",
   "execution_count": 10,
   "id": "9667e284-45c6-4baa-80f0-68d50903ab3f",
   "metadata": {},
   "outputs": [],
   "source": [
    "df = remove_outliers(df, 1, df.columns)"
   ]
  },
  {
   "cell_type": "code",
   "execution_count": 11,
   "id": "b6ea6646-024c-4143-992e-070ed5b48fc9",
   "metadata": {},
   "outputs": [
    {
     "data": {
      "text/plain": [
       "(666078, 7)"
      ]
     },
     "execution_count": 11,
     "metadata": {},
     "output_type": "execute_result"
    }
   ],
   "source": [
    "df.shape"
   ]
  },
  {
   "cell_type": "markdown",
   "id": "36e19974-2128-4bfb-a534-d02c2bce7bc1",
   "metadata": {},
   "source": [
    "# Scalling Exercises"
   ]
  },
  {
   "cell_type": "markdown",
   "id": "64872215-aa3e-43b7-b8ca-87e133417efe",
   "metadata": {},
   "source": [
    "\n",
    "1. Apply the scalers we talked about in this lesson to your data and visualize the results for the unscaled and scaled distribution ."
   ]
  },
  {
   "cell_type": "code",
   "execution_count": 12,
   "id": "6aefc613-a951-436b-8e2e-2e5b88974ee2",
   "metadata": {},
   "outputs": [],
   "source": [
    "from scipy import stats\n",
    "from sklearn.model_selection import train_test_split"
   ]
  },
  {
   "cell_type": "code",
   "execution_count": 13,
   "id": "1f7d8c66-f61d-4c7c-b6e6-de8babb45ff9",
   "metadata": {},
   "outputs": [],
   "source": [
    "def train_validate_test_split(df, seed=123):\n",
    "    train_validate, test = train_test_split(df, test_size=0.2, \n",
    "                                            random_state=seed)\n",
    "    train, validate = train_test_split(train_validate, test_size=0.3, \n",
    "                                       random_state=seed)\n",
    "    return train, validate, test"
   ]
  },
  {
   "cell_type": "code",
   "execution_count": 14,
   "id": "2bc226eb-775b-4842-80ee-1e65cc8553ae",
   "metadata": {},
   "outputs": [
    {
     "data": {
      "text/plain": [
       "((373003, 7), (159859, 7), (133216, 7))"
      ]
     },
     "execution_count": 14,
     "metadata": {},
     "output_type": "execute_result"
    }
   ],
   "source": [
    "train, validate, test = train_validate_test_split(df, seed=123)\n",
    "train.shape, validate.shape, test.shape"
   ]
  },
  {
   "cell_type": "code",
   "execution_count": 15,
   "id": "0afaa980-ada7-489c-b0e4-b6a4a44834b7",
   "metadata": {},
   "outputs": [
    {
     "data": {
      "text/plain": [
       "<AxesSubplot:ylabel='Frequency'>"
      ]
     },
     "execution_count": 15,
     "metadata": {},
     "output_type": "execute_result"
    },
    {
     "data": {
      "image/png": "[encoded data removed]",
      "text/plain": [
       "<Figure size 432x288 with 1 Axes>"
      ]
     },
     "metadata": {
      "needs_background": "light"
     },
     "output_type": "display_data"
    }
   ],
   "source": [
    "train.tax_value.plot.hist(bins=10)\n",
    "train.taxamount.plot.hist(bins=10)"
   ]
  },
  {
   "cell_type": "code",
   "execution_count": 16,
   "id": "2a9e98b3-76b3-4eb2-b526-61cc2e289d1c",
   "metadata": {},
   "outputs": [
    {
     "data": {
      "text/plain": [
       "<AxesSubplot:xlabel='tax_value', ylabel='Count'>"
      ]
     },
     "execution_count": 16,
     "metadata": {},
     "output_type": "execute_result"
    },
    {
     "data": {
      "image/png": "[encoded data removed]",
      "text/plain": [
       "<Figure size 432x288 with 1 Axes>"
      ]
     },
     "metadata": {
      "needs_background": "light"
     },
     "output_type": "display_data"
    }
   ],
   "source": [
    "sns.histplot(x=train.tax_value)\n",
    "sns.histplot(x=train.taxamount)"
   ]
  },
  {
   "cell_type": "code",
   "execution_count": 17,
   "id": "5031e466-83f8-46b7-8d81-be65f4e60c31",
   "metadata": {},
   "outputs": [
    {
     "data": {
      "text/plain": [
       "6778.0"
      ]
     },
     "execution_count": 17,
     "metadata": {},
     "output_type": "execute_result"
    }
   ],
   "source": [
    "train.tax_value.min()"
   ]
  },
  {
   "cell_type": "code",
   "execution_count": 18,
   "id": "e0499f3a-c2a3-435e-92fe-8ec5ea4ade08",
   "metadata": {},
   "outputs": [
    {
     "data": {
      "text/plain": [
       "663778.0"
      ]
     },
     "execution_count": 18,
     "metadata": {},
     "output_type": "execute_result"
    }
   ],
   "source": [
    "train.tax_value.max()"
   ]
  },
  {
   "cell_type": "code",
   "execution_count": 19,
   "id": "dc44f29c-245f-468f-807c-6d202dead043",
   "metadata": {},
   "outputs": [
    {
     "data": {
      "text/plain": [
       "<AxesSubplot:xlabel='tax_value', ylabel='Density'>"
      ]
     },
     "execution_count": 19,
     "metadata": {},
     "output_type": "execute_result"
    },
    {
     "data": {
      "image/png": "[encoded data removed]",
      "text/plain": [
       "<Figure size 432x288 with 1 Axes>"
      ]
     },
     "metadata": {
      "needs_background": "light"
     },
     "output_type": "display_data"
    }
   ],
   "source": [
    "sns.kdeplot(x = train.tax_value, label = 'Tax_Value')\n",
    "sns.kdeplot(x = train.taxamount, label = 'Tax_Amount')"
   ]
  },
  {
   "cell_type": "markdown",
   "id": "84a748b9-5a76-4b11-975d-996e6a405bbd",
   "metadata": {},
   "source": [
    "# Min-Max Scalar"
   ]
  },
  {
   "cell_type": "code",
   "execution_count": 20,
   "id": "cb17661f-f50f-4f92-9f05-ae23f88f1473",
   "metadata": {},
   "outputs": [],
   "source": [
    "import sklearn.preprocessing"
   ]
  },
  {
   "cell_type": "code",
   "execution_count": 21,
   "id": "20b08a06-2938-4907-9b33-f42b139e8b90",
   "metadata": {},
   "outputs": [
    {
     "data": {
      "text/plain": [
       "array([[0.29204871, 0.42823426],\n",
       "       [0.96058752, 0.88415472],\n",
       "       [0.31646423, 0.32094098],\n",
       "       [0.11175038, 0.18872441],\n",
       "       [0.33569559, 0.33248226],\n",
       "       [0.27235921, 0.27907093],\n",
       "       [0.09583409, 0.12717092],\n",
       "       [0.26854795, 0.22972949],\n",
       "       [0.70049011, 0.63353369],\n",
       "       [0.32274734, 0.34088415]])"
      ]
     },
     "execution_count": 21,
     "metadata": {},
     "output_type": "execute_result"
    }
   ],
   "source": [
    "# 1. create the object\n",
    "scaler = sklearn.preprocessing.MinMaxScaler()\n",
    "\n",
    "# 2. fit the object (learn the min and max value)\n",
    "scaler.fit(train[['tax_value', 'taxamount']])\n",
    "\n",
    "# 3. use the object (use the min, max to do the transformation)\n",
    "\n",
    "scaled_tax = scaler.transform(train[['tax_value', 'taxamount']])\n",
    "scaled_tax[:10]"
   ]
  },
  {
   "cell_type": "code",
   "execution_count": 22,
   "id": "5443b00d-02a4-4f1b-a154-9cc586c9ead5",
   "metadata": {},
   "outputs": [],
   "source": [
    "train[['tax_value_scaled', 'taxamount_scaled']] = scaled_tax"
   ]
  },
  {
   "cell_type": "code",
   "execution_count": 23,
   "id": "723e85dd-c86a-475c-8334-9eb952ac84a5",
   "metadata": {},
   "outputs": [
    {
     "data": {
      "text/html": [
       "<div>\n",
       "<style scoped>\n",
       "    .dataframe tbody tr th:only-of-type {\n",
       "        vertical-align: middle;\n",
       "    }\n",
       "\n",
       "    .dataframe tbody tr th {\n",
       "        vertical-align: top;\n",
       "    }\n",
       "\n",
       "    .dataframe thead th {\n",
       "        text-align: right;\n",
       "    }\n",
       "</style>\n",
       "<table border=\"1\" class=\"dataframe\">\n",
       "  <thead>\n",
       "    <tr style=\"text-align: right;\">\n",
       "      <th></th>\n",
       "      <th>bedroomcnt</th>\n",
       "      <th>bathroomcnt</th>\n",
       "      <th>yearbuilt</th>\n",
       "      <th>taxamount</th>\n",
       "      <th>fips</th>\n",
       "      <th>calfinishedsqft</th>\n",
       "      <th>tax_value</th>\n",
       "      <th>tax_value_scaled</th>\n",
       "      <th>taxamount_scaled</th>\n",
       "    </tr>\n",
       "  </thead>\n",
       "  <tbody>\n",
       "    <tr>\n",
       "      <th>1705953</th>\n",
       "      <td>4.0</td>\n",
       "      <td>2.0</td>\n",
       "      <td>1954.0</td>\n",
       "      <td>3614.56</td>\n",
       "      <td>6037.0</td>\n",
       "      <td>1071.0</td>\n",
       "      <td>198654.0</td>\n",
       "      <td>0.292049</td>\n",
       "      <td>0.428234</td>\n",
       "    </tr>\n",
       "    <tr>\n",
       "      <th>1869634</th>\n",
       "      <td>3.0</td>\n",
       "      <td>2.0</td>\n",
       "      <td>1957.0</td>\n",
       "      <td>7441.26</td>\n",
       "      <td>6037.0</td>\n",
       "      <td>1641.0</td>\n",
       "      <td>637884.0</td>\n",
       "      <td>0.960588</td>\n",
       "      <td>0.884155</td>\n",
       "    </tr>\n",
       "    <tr>\n",
       "      <th>200490</th>\n",
       "      <td>3.0</td>\n",
       "      <td>2.0</td>\n",
       "      <td>1941.0</td>\n",
       "      <td>2714.01</td>\n",
       "      <td>6037.0</td>\n",
       "      <td>1611.0</td>\n",
       "      <td>214695.0</td>\n",
       "      <td>0.316464</td>\n",
       "      <td>0.320941</td>\n",
       "    </tr>\n",
       "    <tr>\n",
       "      <th>1069665</th>\n",
       "      <td>4.0</td>\n",
       "      <td>2.0</td>\n",
       "      <td>1962.0</td>\n",
       "      <td>1604.27</td>\n",
       "      <td>6037.0</td>\n",
       "      <td>1620.0</td>\n",
       "      <td>80198.0</td>\n",
       "      <td>0.111750</td>\n",
       "      <td>0.188724</td>\n",
       "    </tr>\n",
       "    <tr>\n",
       "      <th>1762774</th>\n",
       "      <td>3.0</td>\n",
       "      <td>2.0</td>\n",
       "      <td>1955.0</td>\n",
       "      <td>2810.88</td>\n",
       "      <td>6059.0</td>\n",
       "      <td>1345.0</td>\n",
       "      <td>227330.0</td>\n",
       "      <td>0.335696</td>\n",
       "      <td>0.332482</td>\n",
       "    </tr>\n",
       "  </tbody>\n",
       "</table>\n",
       "</div>"
      ],
      "text/plain": [
       "         bedroomcnt  bathroomcnt yearbuilt  taxamount    fips  \\\n",
       "1705953         4.0          2.0    1954.0    3614.56  6037.0   \n",
       "1869634         3.0          2.0    1957.0    7441.26  6037.0   \n",
       "200490          3.0          2.0    1941.0    2714.01  6037.0   \n",
       "1069665         4.0          2.0    1962.0    1604.27  6037.0   \n",
       "1762774         3.0          2.0    1955.0    2810.88  6059.0   \n",
       "\n",
       "         calfinishedsqft  tax_value  tax_value_scaled  taxamount_scaled  \n",
       "1705953           1071.0   198654.0          0.292049          0.428234  \n",
       "1869634           1641.0   637884.0          0.960588          0.884155  \n",
       "200490            1611.0   214695.0          0.316464          0.320941  \n",
       "1069665           1620.0    80198.0          0.111750          0.188724  \n",
       "1762774           1345.0   227330.0          0.335696          0.332482  "
      ]
     },
     "execution_count": 23,
     "metadata": {},
     "output_type": "execute_result"
    }
   ],
   "source": [
    "train.head()"
   ]
  },
  {
   "cell_type": "code",
   "execution_count": 24,
   "id": "b611fd39-64c4-46d2-9b16-accce45cd918",
   "metadata": {},
   "outputs": [],
   "source": [
    "# make new scaled columns for validate and test (transform only)\n",
    "\n",
    "test[['tax_value_scaled', 'taxamount_scaled']] = scaler.transform(test[['tax_value', 'taxamount']])\n",
    "validate[['tax_value_scaled', 'taxamount_scaled']] = scaler.transform(validate[['tax_value', 'taxamount']])"
   ]
  },
  {
   "cell_type": "code",
   "execution_count": 25,
   "id": "8d262ea7-4d0b-4668-991c-8433d0295389",
   "metadata": {},
   "outputs": [
    {
     "data": {
      "text/html": [
       "<div>\n",
       "<style scoped>\n",
       "    .dataframe tbody tr th:only-of-type {\n",
       "        vertical-align: middle;\n",
       "    }\n",
       "\n",
       "    .dataframe tbody tr th {\n",
       "        vertical-align: top;\n",
       "    }\n",
       "\n",
       "    .dataframe thead th {\n",
       "        text-align: right;\n",
       "    }\n",
       "</style>\n",
       "<table border=\"1\" class=\"dataframe\">\n",
       "  <thead>\n",
       "    <tr style=\"text-align: right;\">\n",
       "      <th></th>\n",
       "      <th>bedroomcnt</th>\n",
       "      <th>bathroomcnt</th>\n",
       "      <th>yearbuilt</th>\n",
       "      <th>taxamount</th>\n",
       "      <th>fips</th>\n",
       "      <th>calfinishedsqft</th>\n",
       "      <th>tax_value</th>\n",
       "      <th>tax_value_scaled</th>\n",
       "      <th>taxamount_scaled</th>\n",
       "    </tr>\n",
       "  </thead>\n",
       "  <tbody>\n",
       "    <tr>\n",
       "      <th>1118368</th>\n",
       "      <td>3.0</td>\n",
       "      <td>2.0</td>\n",
       "      <td>1957.0</td>\n",
       "      <td>6127.28</td>\n",
       "      <td>6059.0</td>\n",
       "      <td>1450.0</td>\n",
       "      <td>521502.0</td>\n",
       "      <td>0.783446</td>\n",
       "      <td>0.727605</td>\n",
       "    </tr>\n",
       "    <tr>\n",
       "      <th>106605</th>\n",
       "      <td>3.0</td>\n",
       "      <td>2.0</td>\n",
       "      <td>1965.0</td>\n",
       "      <td>5353.68</td>\n",
       "      <td>6059.0</td>\n",
       "      <td>1144.0</td>\n",
       "      <td>517767.0</td>\n",
       "      <td>0.777761</td>\n",
       "      <td>0.635436</td>\n",
       "    </tr>\n",
       "    <tr>\n",
       "      <th>1283559</th>\n",
       "      <td>3.0</td>\n",
       "      <td>2.0</td>\n",
       "      <td>1988.0</td>\n",
       "      <td>2555.72</td>\n",
       "      <td>6037.0</td>\n",
       "      <td>1509.0</td>\n",
       "      <td>132738.0</td>\n",
       "      <td>0.191720</td>\n",
       "      <td>0.302082</td>\n",
       "    </tr>\n",
       "    <tr>\n",
       "      <th>200228</th>\n",
       "      <td>3.0</td>\n",
       "      <td>2.0</td>\n",
       "      <td>1957.0</td>\n",
       "      <td>4322.10</td>\n",
       "      <td>6037.0</td>\n",
       "      <td>1128.0</td>\n",
       "      <td>330085.0</td>\n",
       "      <td>0.492096</td>\n",
       "      <td>0.512532</td>\n",
       "    </tr>\n",
       "    <tr>\n",
       "      <th>1924098</th>\n",
       "      <td>4.0</td>\n",
       "      <td>2.0</td>\n",
       "      <td>1957.0</td>\n",
       "      <td>3903.92</td>\n",
       "      <td>6059.0</td>\n",
       "      <td>1552.0</td>\n",
       "      <td>324583.0</td>\n",
       "      <td>0.483721</td>\n",
       "      <td>0.462709</td>\n",
       "    </tr>\n",
       "  </tbody>\n",
       "</table>\n",
       "</div>"
      ],
      "text/plain": [
       "         bedroomcnt  bathroomcnt yearbuilt  taxamount    fips  \\\n",
       "1118368         3.0          2.0    1957.0    6127.28  6059.0   \n",
       "106605          3.0          2.0    1965.0    5353.68  6059.0   \n",
       "1283559         3.0          2.0    1988.0    2555.72  6037.0   \n",
       "200228          3.0          2.0    1957.0    4322.10  6037.0   \n",
       "1924098         4.0          2.0    1957.0    3903.92  6059.0   \n",
       "\n",
       "         calfinishedsqft  tax_value  tax_value_scaled  taxamount_scaled  \n",
       "1118368           1450.0   521502.0          0.783446          0.727605  \n",
       "106605            1144.0   517767.0          0.777761          0.635436  \n",
       "1283559           1509.0   132738.0          0.191720          0.302082  \n",
       "200228            1128.0   330085.0          0.492096          0.512532  \n",
       "1924098           1552.0   324583.0          0.483721          0.462709  "
      ]
     },
     "execution_count": 25,
     "metadata": {},
     "output_type": "execute_result"
    }
   ],
   "source": [
    "test.head()"
   ]
  },
  {
   "cell_type": "code",
   "execution_count": 26,
   "id": "284d4b7a-f9ce-49b8-8446-1dd1e52ba86b",
   "metadata": {},
   "outputs": [
    {
     "data": {
      "text/html": [
       "<div>\n",
       "<style scoped>\n",
       "    .dataframe tbody tr th:only-of-type {\n",
       "        vertical-align: middle;\n",
       "    }\n",
       "\n",
       "    .dataframe tbody tr th {\n",
       "        vertical-align: top;\n",
       "    }\n",
       "\n",
       "    .dataframe thead th {\n",
       "        text-align: right;\n",
       "    }\n",
       "</style>\n",
       "<table border=\"1\" class=\"dataframe\">\n",
       "  <thead>\n",
       "    <tr style=\"text-align: right;\">\n",
       "      <th></th>\n",
       "      <th>bedroomcnt</th>\n",
       "      <th>bathroomcnt</th>\n",
       "      <th>yearbuilt</th>\n",
       "      <th>taxamount</th>\n",
       "      <th>fips</th>\n",
       "      <th>calfinishedsqft</th>\n",
       "      <th>tax_value</th>\n",
       "      <th>tax_value_scaled</th>\n",
       "      <th>taxamount_scaled</th>\n",
       "    </tr>\n",
       "  </thead>\n",
       "  <tbody>\n",
       "    <tr>\n",
       "      <th>1418148</th>\n",
       "      <td>3.0</td>\n",
       "      <td>2.5</td>\n",
       "      <td>1962.0</td>\n",
       "      <td>6971.62</td>\n",
       "      <td>6059.0</td>\n",
       "      <td>2085.0</td>\n",
       "      <td>609150.0</td>\n",
       "      <td>0.916852</td>\n",
       "      <td>0.828201</td>\n",
       "    </tr>\n",
       "    <tr>\n",
       "      <th>467106</th>\n",
       "      <td>3.0</td>\n",
       "      <td>2.0</td>\n",
       "      <td>1957.0</td>\n",
       "      <td>708.28</td>\n",
       "      <td>6037.0</td>\n",
       "      <td>1075.0</td>\n",
       "      <td>56488.0</td>\n",
       "      <td>0.075662</td>\n",
       "      <td>0.081974</td>\n",
       "    </tr>\n",
       "    <tr>\n",
       "      <th>1725248</th>\n",
       "      <td>3.0</td>\n",
       "      <td>2.0</td>\n",
       "      <td>1936.0</td>\n",
       "      <td>5695.08</td>\n",
       "      <td>6037.0</td>\n",
       "      <td>1340.0</td>\n",
       "      <td>450457.0</td>\n",
       "      <td>0.675311</td>\n",
       "      <td>0.676111</td>\n",
       "    </tr>\n",
       "    <tr>\n",
       "      <th>945669</th>\n",
       "      <td>4.0</td>\n",
       "      <td>2.5</td>\n",
       "      <td>1969.0</td>\n",
       "      <td>5888.60</td>\n",
       "      <td>6059.0</td>\n",
       "      <td>1785.0</td>\n",
       "      <td>512628.0</td>\n",
       "      <td>0.769939</td>\n",
       "      <td>0.699168</td>\n",
       "    </tr>\n",
       "    <tr>\n",
       "      <th>468535</th>\n",
       "      <td>4.0</td>\n",
       "      <td>2.0</td>\n",
       "      <td>1953.0</td>\n",
       "      <td>5816.30</td>\n",
       "      <td>6037.0</td>\n",
       "      <td>1617.0</td>\n",
       "      <td>478506.0</td>\n",
       "      <td>0.718003</td>\n",
       "      <td>0.690554</td>\n",
       "    </tr>\n",
       "  </tbody>\n",
       "</table>\n",
       "</div>"
      ],
      "text/plain": [
       "         bedroomcnt  bathroomcnt yearbuilt  taxamount    fips  \\\n",
       "1418148         3.0          2.5    1962.0    6971.62  6059.0   \n",
       "467106          3.0          2.0    1957.0     708.28  6037.0   \n",
       "1725248         3.0          2.0    1936.0    5695.08  6037.0   \n",
       "945669          4.0          2.5    1969.0    5888.60  6059.0   \n",
       "468535          4.0          2.0    1953.0    5816.30  6037.0   \n",
       "\n",
       "         calfinishedsqft  tax_value  tax_value_scaled  taxamount_scaled  \n",
       "1418148           2085.0   609150.0          0.916852          0.828201  \n",
       "467106            1075.0    56488.0          0.075662          0.081974  \n",
       "1725248           1340.0   450457.0          0.675311          0.676111  \n",
       "945669            1785.0   512628.0          0.769939          0.699168  \n",
       "468535            1617.0   478506.0          0.718003          0.690554  "
      ]
     },
     "execution_count": 26,
     "metadata": {},
     "output_type": "execute_result"
    }
   ],
   "source": [
    "validate.head()"
   ]
  },
  {
   "cell_type": "code",
   "execution_count": 27,
   "id": "f5df53fd-a153-49bf-b373-b31018fdb4fc",
   "metadata": {},
   "outputs": [
    {
     "data": {
      "image/png": "[encoded data removed]",
      "text/plain": [
       "<Figure size 936x432 with 2 Axes>"
      ]
     },
     "metadata": {
      "needs_background": "light"
     },
     "output_type": "display_data"
    }
   ],
   "source": [
    "# Visualize the un-scaled and scaled distribution for tax_value\n",
    "\n",
    "plt.figure(figsize=(13, 6))\n",
    "\n",
    "# subplot 1\n",
    "plt.subplot(121)\n",
    "train.tax_value.plot.hist(title='Original')\n",
    "\n",
    "#subplot 2\n",
    "plt.subplot(122)\n",
    "train.tax_value_scaled.plot.hist(title='Min-Max Scaled');"
   ]
  },
  {
   "cell_type": "code",
   "execution_count": 28,
   "id": "1ac30beb-9abe-4d18-9e75-7afb4255fdb0",
   "metadata": {},
   "outputs": [
    {
     "data": {
      "image/png": "[encoded data removed]",
      "text/plain": [
       "<Figure size 432x288 with 1 Axes>"
      ]
     },
     "metadata": {
      "needs_background": "light"
     },
     "output_type": "display_data"
    }
   ],
   "source": [
    "# Visualize the scaling taxamount:\n",
    "\n",
    "plt.scatter(train.tax_value, train.tax_value_scaled)\n",
    "plt.xlabel('Tax Value ($)')\n",
    "plt.ylabel('Tax Value Scaled')\n",
    "plt.title('Min-Max Scaler');"
   ]
  },
  {
   "cell_type": "code",
   "execution_count": 29,
   "id": "d53eb21e-7fe5-4448-9d61-0d42f76b0210",
   "metadata": {},
   "outputs": [
    {
     "data": {
      "image/png": "[encoded data removed]",
      "text/plain": [
       "<Figure size 720x432 with 2 Axes>"
      ]
     },
     "metadata": {
      "needs_background": "light"
     },
     "output_type": "display_data"
    }
   ],
   "source": [
    "# Distribution of tax_value and taxamount before and after scaling:\n",
    "\n",
    "plt.figure(figsize = (10,6))\n",
    "\n",
    "plt.subplot(121)\n",
    "sns.kdeplot(x = train.tax_value, label = 'tax_value')\n",
    "sns.kdeplot(x = train.taxamount,label = 'taxamount')\n",
    "plt.xlabel('$ Amount')\n",
    "plt.legend()\n",
    "plt.title('Before Scaling')\n",
    "\n",
    "plt.subplot(122)\n",
    "sns.kdeplot(x = train.tax_value_scaled, label = 'tax_value')\n",
    "sns.kdeplot(x = train.taxamount_scaled,label = 'taxamount')\n",
    "plt.xlabel('Scaled $ Amount')\n",
    "plt.title('After Scaling')\n",
    "plt.legend()\n",
    "\n",
    "\n",
    "plt.tight_layout()"
   ]
  },
  {
   "cell_type": "markdown",
   "id": "19354cbb-9682-4ba6-aef7-a7df60b30f99",
   "metadata": {},
   "source": [
    "# Standard Scaler"
   ]
  },
  {
   "cell_type": "code",
   "execution_count": 30,
   "id": "42e109dd-9f7c-4d18-ae3a-b4c72b61696d",
   "metadata": {},
   "outputs": [],
   "source": [
    "# 1. create the object\n",
    "scaler = sklearn.preprocessing.StandardScaler()\n",
    "\n",
    "# 2. fit the object\n",
    "scaler.fit(train[['tax_value']])\n",
    "\n",
    "# 3. use the object. Scale total_bill only\n",
    "train['tax_value_scaled'] = scaler.transform(train[['tax_value']])\n",
    "test['tax_value_scaled'] = scaler.transform(test[['tax_value']])\n",
    "validate['tax_value_scaled'] = scaler.transform(validate[['tax_value']])"
   ]
  },
  {
   "cell_type": "code",
   "execution_count": 31,
   "id": "9121bdc4-06c6-4c0a-ad77-87c3cc9ece10",
   "metadata": {},
   "outputs": [
    {
     "data": {
      "image/png": "[encoded data removed]",
      "text/plain": [
       "<Figure size 936x432 with 2 Axes>"
      ]
     },
     "metadata": {
      "needs_background": "light"
     },
     "output_type": "display_data"
    }
   ],
   "source": [
    "#plot the scaled and unscaled distributions\n",
    "plt.figure(figsize=(13, 6))\n",
    "\n",
    "plt.subplot(121)\n",
    "train.tax_value.plot.hist(title='Original')\n",
    "\n",
    "plt.subplot(122)\n",
    "train.tax_value_scaled.plot.hist(title='Standard Scaled');"
   ]
  },
  {
   "cell_type": "code",
   "execution_count": 32,
   "id": "0b1c71c8-047f-435a-b4d0-e4d63e898ac8",
   "metadata": {},
   "outputs": [
    {
     "data": {
      "image/png": "[encoded data removed]",
      "text/plain": [
       "<Figure size 432x288 with 1 Axes>"
      ]
     },
     "metadata": {
      "needs_background": "light"
     },
     "output_type": "display_data"
    }
   ],
   "source": [
    "plt.scatter(train.tax_value, train.tax_value_scaled)\n",
    "plt.xlabel('Tax Value ($)')\n",
    "plt.ylabel('Tax Value Scaled')\n",
    "plt.title('Standard Scaler');"
   ]
  },
  {
   "cell_type": "markdown",
   "id": "7d3aa595-8b4e-420b-a6f9-7c979e98c030",
   "metadata": {},
   "source": [
    "# Robust Scaler"
   ]
  },
  {
   "cell_type": "code",
   "execution_count": 33,
   "id": "eb188679-a3af-4afa-a70d-8bfc138045f7",
   "metadata": {},
   "outputs": [
    {
     "data": {
      "image/png": "[encoded data removed]",
      "text/plain": [
       "<Figure size 936x432 with 2 Axes>"
      ]
     },
     "metadata": {
      "needs_background": "light"
     },
     "output_type": "display_data"
    }
   ],
   "source": [
    "# 1. create the object\n",
    "scaler = sklearn.preprocessing.RobustScaler()\n",
    "\n",
    "# 2. fit the object\n",
    "scaler.fit(train[['tax_value']])\n",
    "\n",
    "# 3. use the object\n",
    "train['tax_value_scaled'] = scaler.transform(train[['tax_value']])\n",
    "test['tax_value_scaled'] = scaler.transform(test[['tax_value']])\n",
    "validate['tax_value_scaled'] = scaler.transform(validate[['tax_value']])\n",
    "\n",
    "#plot the scaled and unscaled distributions\n",
    "plt.figure(figsize=(13, 6))\n",
    "plt.subplot(121)\n",
    "train.tax_value.plot.hist(title='Original')\n",
    "plt.subplot(122)\n",
    "train.tax_value_scaled.plot.hist(title='Robust Scaled');"
   ]
  },
  {
   "cell_type": "markdown",
   "id": "d8c8f943-b900-49de-9198-26eb1a3f2dd6",
   "metadata": {},
   "source": [
    "# Non-Linear Scalar"
   ]
  },
  {
   "cell_type": "code",
   "execution_count": 34,
   "id": "2e7b752f-583e-4baa-94f0-aa1e3b84e601",
   "metadata": {},
   "outputs": [
    {
     "data": {
      "image/png": "[encoded data removed]",
      "text/plain": [
       "<Figure size 936x432 with 2 Axes>"
      ]
     },
     "metadata": {
      "needs_background": "light"
     },
     "output_type": "display_data"
    }
   ],
   "source": [
    "# 1. create the object\n",
    "scaler = sklearn.preprocessing.QuantileTransformer(output_distribution='normal')\n",
    "\n",
    "# 2. fit the object\n",
    "scaler.fit(train[['tax_value']])\n",
    "\n",
    "# 3. use the object\n",
    "train['tax_value_scaled'] = scaler.transform(train[['tax_value']])\n",
    "test['tax_value_scaled'] = scaler.transform(test[['tax_value']])\n",
    "validate['tax_value_scaled'] = scaler.transform(validate[['tax_value']])\n",
    "\n",
    "#plot the scaled and unscaled distribution\n",
    "plt.figure(figsize=(13, 6))\n",
    "plt.subplot(121)\n",
    "train.tax_value.plot.hist(title='Original')\n",
    "plt.subplot(122)\n",
    "train.tax_value_scaled.plot.hist(title='Quantile Transformed to Normal');"
   ]
  },
  {
   "cell_type": "markdown",
   "id": "7eb83ee1-0e17-40aa-8d88-7b866dbae06a",
   "metadata": {},
   "source": [
    "2. Apply the .inverse_transform method to your scaled data. Is the resulting dataset the exact same as the original data?"
   ]
  },
  {
   "cell_type": "code",
   "execution_count": 35,
   "id": "8722559b-31f1-4fd7-9fc4-182690f34811",
   "metadata": {},
   "outputs": [
    {
     "data": {
      "text/html": [
       "<div>\n",
       "<style scoped>\n",
       "    .dataframe tbody tr th:only-of-type {\n",
       "        vertical-align: middle;\n",
       "    }\n",
       "\n",
       "    .dataframe tbody tr th {\n",
       "        vertical-align: top;\n",
       "    }\n",
       "\n",
       "    .dataframe thead th {\n",
       "        text-align: right;\n",
       "    }\n",
       "</style>\n",
       "<table border=\"1\" class=\"dataframe\">\n",
       "  <thead>\n",
       "    <tr style=\"text-align: right;\">\n",
       "      <th></th>\n",
       "      <th>bedroomcnt</th>\n",
       "      <th>bathroomcnt</th>\n",
       "      <th>yearbuilt</th>\n",
       "      <th>taxamount</th>\n",
       "      <th>fips</th>\n",
       "      <th>calfinishedsqft</th>\n",
       "      <th>tax_value</th>\n",
       "      <th>tax_value_scaled</th>\n",
       "      <th>taxamount_scaled</th>\n",
       "    </tr>\n",
       "  </thead>\n",
       "  <tbody>\n",
       "    <tr>\n",
       "      <th>1705953</th>\n",
       "      <td>4.0</td>\n",
       "      <td>2.0</td>\n",
       "      <td>1954.0</td>\n",
       "      <td>3614.56</td>\n",
       "      <td>6037.0</td>\n",
       "      <td>1071.0</td>\n",
       "      <td>198654.0</td>\n",
       "      <td>-0.426076</td>\n",
       "      <td>0.428234</td>\n",
       "    </tr>\n",
       "    <tr>\n",
       "      <th>1869634</th>\n",
       "      <td>3.0</td>\n",
       "      <td>2.0</td>\n",
       "      <td>1957.0</td>\n",
       "      <td>7441.26</td>\n",
       "      <td>6037.0</td>\n",
       "      <td>1641.0</td>\n",
       "      <td>637884.0</td>\n",
       "      <td>2.267738</td>\n",
       "      <td>0.884155</td>\n",
       "    </tr>\n",
       "    <tr>\n",
       "      <th>200490</th>\n",
       "      <td>3.0</td>\n",
       "      <td>2.0</td>\n",
       "      <td>1941.0</td>\n",
       "      <td>2714.01</td>\n",
       "      <td>6037.0</td>\n",
       "      <td>1611.0</td>\n",
       "      <td>214695.0</td>\n",
       "      <td>-0.332733</td>\n",
       "      <td>0.320941</td>\n",
       "    </tr>\n",
       "    <tr>\n",
       "      <th>1069665</th>\n",
       "      <td>4.0</td>\n",
       "      <td>2.0</td>\n",
       "      <td>1962.0</td>\n",
       "      <td>1604.27</td>\n",
       "      <td>6037.0</td>\n",
       "      <td>1620.0</td>\n",
       "      <td>80198.0</td>\n",
       "      <td>-1.238097</td>\n",
       "      <td>0.188724</td>\n",
       "    </tr>\n",
       "    <tr>\n",
       "      <th>1762774</th>\n",
       "      <td>3.0</td>\n",
       "      <td>2.0</td>\n",
       "      <td>1955.0</td>\n",
       "      <td>2810.88</td>\n",
       "      <td>6059.0</td>\n",
       "      <td>1345.0</td>\n",
       "      <td>227330.0</td>\n",
       "      <td>-0.252887</td>\n",
       "      <td>0.332482</td>\n",
       "    </tr>\n",
       "  </tbody>\n",
       "</table>\n",
       "</div>"
      ],
      "text/plain": [
       "         bedroomcnt  bathroomcnt yearbuilt  taxamount    fips  \\\n",
       "1705953         4.0          2.0    1954.0    3614.56  6037.0   \n",
       "1869634         3.0          2.0    1957.0    7441.26  6037.0   \n",
       "200490          3.0          2.0    1941.0    2714.01  6037.0   \n",
       "1069665         4.0          2.0    1962.0    1604.27  6037.0   \n",
       "1762774         3.0          2.0    1955.0    2810.88  6059.0   \n",
       "\n",
       "         calfinishedsqft  tax_value  tax_value_scaled  taxamount_scaled  \n",
       "1705953           1071.0   198654.0         -0.426076          0.428234  \n",
       "1869634           1641.0   637884.0          2.267738          0.884155  \n",
       "200490            1611.0   214695.0         -0.332733          0.320941  \n",
       "1069665           1620.0    80198.0         -1.238097          0.188724  \n",
       "1762774           1345.0   227330.0         -0.252887          0.332482  "
      ]
     },
     "execution_count": 35,
     "metadata": {},
     "output_type": "execute_result"
    }
   ],
   "source": [
    "train.head()"
   ]
  },
  {
   "cell_type": "code",
   "execution_count": 38,
   "id": "b9ad8647-4fac-4d17-bc1a-3b94cea366f3",
   "metadata": {},
   "outputs": [
    {
     "data": {
      "text/plain": [
       "array([[0.29204871, 0.42823426],\n",
       "       [0.96058752, 0.88415472],\n",
       "       [0.31646423, 0.32094098],\n",
       "       ...,\n",
       "       [0.51414764, 0.51902637],\n",
       "       [0.46496804, 0.46640972],\n",
       "       [0.39629833, 0.39492694]])"
      ]
     },
     "execution_count": 38,
     "metadata": {},
     "output_type": "execute_result"
    }
   ],
   "source": [
    "scaler = sklearn.preprocessing.MinMaxScaler()\n",
    "\n",
    "scaled = scaler.fit_transform(train[['tax_value', 'taxamount']])\n",
    "scaled"
   ]
  },
  {
   "cell_type": "code",
   "execution_count": 39,
   "id": "a1d30bf1-55ca-4203-b570-e8dbb799f712",
   "metadata": {},
   "outputs": [
    {
     "data": {
      "text/html": [
       "<div>\n",
       "<style scoped>\n",
       "    .dataframe tbody tr th:only-of-type {\n",
       "        vertical-align: middle;\n",
       "    }\n",
       "\n",
       "    .dataframe tbody tr th {\n",
       "        vertical-align: top;\n",
       "    }\n",
       "\n",
       "    .dataframe thead th {\n",
       "        text-align: right;\n",
       "    }\n",
       "</style>\n",
       "<table border=\"1\" class=\"dataframe\">\n",
       "  <thead>\n",
       "    <tr style=\"text-align: right;\">\n",
       "      <th></th>\n",
       "      <th>tax_value</th>\n",
       "      <th>taxamount</th>\n",
       "    </tr>\n",
       "  </thead>\n",
       "  <tbody>\n",
       "    <tr>\n",
       "      <th>1705953</th>\n",
       "      <td>0.292049</td>\n",
       "      <td>0.428234</td>\n",
       "    </tr>\n",
       "    <tr>\n",
       "      <th>1869634</th>\n",
       "      <td>0.960588</td>\n",
       "      <td>0.884155</td>\n",
       "    </tr>\n",
       "    <tr>\n",
       "      <th>200490</th>\n",
       "      <td>0.316464</td>\n",
       "      <td>0.320941</td>\n",
       "    </tr>\n",
       "    <tr>\n",
       "      <th>1069665</th>\n",
       "      <td>0.111750</td>\n",
       "      <td>0.188724</td>\n",
       "    </tr>\n",
       "    <tr>\n",
       "      <th>1762774</th>\n",
       "      <td>0.335696</td>\n",
       "      <td>0.332482</td>\n",
       "    </tr>\n",
       "  </tbody>\n",
       "</table>\n",
       "</div>"
      ],
      "text/plain": [
       "         tax_value  taxamount\n",
       "1705953   0.292049   0.428234\n",
       "1869634   0.960588   0.884155\n",
       "200490    0.316464   0.320941\n",
       "1069665   0.111750   0.188724\n",
       "1762774   0.335696   0.332482"
      ]
     },
     "execution_count": 39,
     "metadata": {},
     "output_type": "execute_result"
    }
   ],
   "source": [
    "scaled_df = pd.DataFrame(scaled, index = train.index, columns = ['tax_value', 'taxamount'])\n",
    "scaled_df.head()"
   ]
  },
  {
   "cell_type": "code",
   "execution_count": 40,
   "id": "f9cc193d-92d2-4ecc-aa35-ae8c57ced4b2",
   "metadata": {},
   "outputs": [
    {
     "data": {
      "text/plain": [
       "array([[198654.  ,   3614.56],\n",
       "       [637884.  ,   7441.26],\n",
       "       [214695.  ,   2714.01],\n",
       "       ...,\n",
       "       [344573.  ,   4376.61],\n",
       "       [312262.  ,   3934.98],\n",
       "       [267146.  ,   3335.  ]])"
      ]
     },
     "execution_count": 40,
     "metadata": {},
     "output_type": "execute_result"
    }
   ],
   "source": [
    "scaler.inverse_transform(scaled_df)"
   ]
  },
  {
   "cell_type": "code",
   "execution_count": 41,
   "id": "b418c2a1-fb5c-4518-a76d-70a5e66f4b0d",
   "metadata": {},
   "outputs": [
    {
     "data": {
      "text/html": [
       "<div>\n",
       "<style scoped>\n",
       "    .dataframe tbody tr th:only-of-type {\n",
       "        vertical-align: middle;\n",
       "    }\n",
       "\n",
       "    .dataframe tbody tr th {\n",
       "        vertical-align: top;\n",
       "    }\n",
       "\n",
       "    .dataframe thead th {\n",
       "        text-align: right;\n",
       "    }\n",
       "</style>\n",
       "<table border=\"1\" class=\"dataframe\">\n",
       "  <thead>\n",
       "    <tr style=\"text-align: right;\">\n",
       "      <th></th>\n",
       "      <th>tax_value</th>\n",
       "      <th>taxamount</th>\n",
       "    </tr>\n",
       "  </thead>\n",
       "  <tbody>\n",
       "    <tr>\n",
       "      <th>1705953</th>\n",
       "      <td>198654.0</td>\n",
       "      <td>3614.56</td>\n",
       "    </tr>\n",
       "    <tr>\n",
       "      <th>1869634</th>\n",
       "      <td>637884.0</td>\n",
       "      <td>7441.26</td>\n",
       "    </tr>\n",
       "    <tr>\n",
       "      <th>200490</th>\n",
       "      <td>214695.0</td>\n",
       "      <td>2714.01</td>\n",
       "    </tr>\n",
       "    <tr>\n",
       "      <th>1069665</th>\n",
       "      <td>80198.0</td>\n",
       "      <td>1604.27</td>\n",
       "    </tr>\n",
       "    <tr>\n",
       "      <th>1762774</th>\n",
       "      <td>227330.0</td>\n",
       "      <td>2810.88</td>\n",
       "    </tr>\n",
       "  </tbody>\n",
       "</table>\n",
       "</div>"
      ],
      "text/plain": [
       "         tax_value  taxamount\n",
       "1705953   198654.0    3614.56\n",
       "1869634   637884.0    7441.26\n",
       "200490    214695.0    2714.01\n",
       "1069665    80198.0    1604.27\n",
       "1762774   227330.0    2810.88"
      ]
     },
     "execution_count": 41,
     "metadata": {},
     "output_type": "execute_result"
    }
   ],
   "source": [
    "unscaled_df = pd.DataFrame(scaler.inverse_transform(scaled), index = train.index, columns = ['tax_value', 'taxamount'])\n",
    "unscaled_df.head()\n"
   ]
  },
  {
   "cell_type": "markdown",
   "id": "53e53d7a-a3de-4950-9275-0d4911a32535",
   "metadata": {},
   "source": [
    "### The resulting dataframe was the exact same. "
   ]
  },
  {
   "cell_type": "markdown",
   "id": "18ab708f-de22-4139-b5a5-b1306f25ee08",
   "metadata": {},
   "source": [
    "3. Read the documentation for sklearn's QuantileTransformer. Use normal for the output_distribution and apply this scaler to your data. Visualize the result of your data scaling."
   ]
  },
  {
   "cell_type": "code",
   "execution_count": null,
   "id": "bf2a2e35-8740-4c8f-a417-b024a06458fb",
   "metadata": {},
   "outputs": [],
   "source": []
  }
 ],
 "metadata": {
  "kernelspec": {
   "display_name": "Python 3",
   "language": "python",
   "name": "python3"
  },
  "language_info": {
   "codemirror_mode": {
    "name": "ipython",
    "version": 3
   },
   "file_extension": ".py",
   "mimetype": "text/x-python",
   "name": "python",
   "nbconvert_exporter": "python",
   "pygments_lexer": "ipython3",
   "version": "3.8.8"
  }
 },
 "nbformat": 4,
 "nbformat_minor": 5
}
