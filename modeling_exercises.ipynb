{
 "cells": [
  {
   "cell_type": "markdown",
   "id": "4bfd7c65-e4f5-4bf4-8be6-b241a5cb91c0",
   "metadata": {},
   "source": [
    "# Modeling Exercises"
   ]
  },
  {
   "cell_type": "markdown",
   "id": "e2a324a9-a543-4240-bc85-b0436711e2bd",
   "metadata": {},
   "source": [
    "1. Select a dataset with a continous target variable."
   ]
  },
  {
   "cell_type": "code",
   "execution_count": 1,
   "id": "b4615e1a-8f2c-4f50-96f1-99fe699aec7b",
   "metadata": {},
   "outputs": [],
   "source": [
    "import wrangle_zillow\n",
    "\n",
    "import pandas as pd\n",
    "import numpy as np\n",
    "import matplotlib.pyplot as plt\n",
    "\n",
    "# modeling methods\n",
    "from sklearn.metrics import mean_squared_error\n",
    "from sklearn.linear_model import LinearRegression, LassoLars, TweedieRegressor\n",
    "from sklearn.preprocessing import PolynomialFeatures\n",
    "from sklearn.model_selection import train_test_split\n",
    "\n",
    "import warnings\n",
    "warnings.filterwarnings(\"ignore\")"
   ]
  },
  {
   "cell_type": "code",
   "execution_count": 2,
   "id": "9fe10204-095e-410a-bd7e-d63d13817361",
   "metadata": {},
   "outputs": [
    {
     "data": {
      "text/html": [
       "<div>\n",
       "<style scoped>\n",
       "    .dataframe tbody tr th:only-of-type {\n",
       "        vertical-align: middle;\n",
       "    }\n",
       "\n",
       "    .dataframe tbody tr th {\n",
       "        vertical-align: top;\n",
       "    }\n",
       "\n",
       "    .dataframe thead th {\n",
       "        text-align: right;\n",
       "    }\n",
       "</style>\n",
       "<table border=\"1\" class=\"dataframe\">\n",
       "  <thead>\n",
       "    <tr style=\"text-align: right;\">\n",
       "      <th></th>\n",
       "      <th>bedroomcnt</th>\n",
       "      <th>bathroomcnt</th>\n",
       "      <th>calculatedfinishedsquarefeet</th>\n",
       "      <th>taxvaluedollarcnt</th>\n",
       "      <th>yearbuilt</th>\n",
       "      <th>taxamount</th>\n",
       "      <th>fips</th>\n",
       "    </tr>\n",
       "  </thead>\n",
       "  <tbody>\n",
       "    <tr>\n",
       "      <th>0</th>\n",
       "      <td>0.0</td>\n",
       "      <td>0.0</td>\n",
       "      <td>NaN</td>\n",
       "      <td>27516.0</td>\n",
       "      <td>NaN</td>\n",
       "      <td>NaN</td>\n",
       "      <td>6037.0</td>\n",
       "    </tr>\n",
       "    <tr>\n",
       "      <th>1</th>\n",
       "      <td>0.0</td>\n",
       "      <td>0.0</td>\n",
       "      <td>NaN</td>\n",
       "      <td>10.0</td>\n",
       "      <td>NaN</td>\n",
       "      <td>NaN</td>\n",
       "      <td>6037.0</td>\n",
       "    </tr>\n",
       "    <tr>\n",
       "      <th>2</th>\n",
       "      <td>0.0</td>\n",
       "      <td>0.0</td>\n",
       "      <td>NaN</td>\n",
       "      <td>10.0</td>\n",
       "      <td>NaN</td>\n",
       "      <td>NaN</td>\n",
       "      <td>6037.0</td>\n",
       "    </tr>\n",
       "    <tr>\n",
       "      <th>3</th>\n",
       "      <td>0.0</td>\n",
       "      <td>0.0</td>\n",
       "      <td>NaN</td>\n",
       "      <td>2108.0</td>\n",
       "      <td>NaN</td>\n",
       "      <td>174.21</td>\n",
       "      <td>6037.0</td>\n",
       "    </tr>\n",
       "    <tr>\n",
       "      <th>4</th>\n",
       "      <td>4.0</td>\n",
       "      <td>2.0</td>\n",
       "      <td>3633.0</td>\n",
       "      <td>296425.0</td>\n",
       "      <td>2005.0</td>\n",
       "      <td>6941.39</td>\n",
       "      <td>6037.0</td>\n",
       "    </tr>\n",
       "  </tbody>\n",
       "</table>\n",
       "</div>"
      ],
      "text/plain": [
       "   bedroomcnt  bathroomcnt  calculatedfinishedsquarefeet  taxvaluedollarcnt  \\\n",
       "0         0.0          0.0                           NaN            27516.0   \n",
       "1         0.0          0.0                           NaN               10.0   \n",
       "2         0.0          0.0                           NaN               10.0   \n",
       "3         0.0          0.0                           NaN             2108.0   \n",
       "4         4.0          2.0                        3633.0           296425.0   \n",
       "\n",
       "   yearbuilt  taxamount    fips  \n",
       "0        NaN        NaN  6037.0  \n",
       "1        NaN        NaN  6037.0  \n",
       "2        NaN        NaN  6037.0  \n",
       "3        NaN     174.21  6037.0  \n",
       "4     2005.0    6941.39  6037.0  "
      ]
     },
     "execution_count": 2,
     "metadata": {},
     "output_type": "execute_result"
    }
   ],
   "source": [
    "df = wrangle_zillow.get_zillow_data()\n",
    "df.head()"
   ]
  },
  {
   "cell_type": "code",
   "execution_count": 3,
   "id": "5fdc678d-7468-48e5-a0bc-6597da1d52a0",
   "metadata": {},
   "outputs": [],
   "source": [
    "def remove_outliers(df, k, col_list):\n",
    "    ''' remove outliers from a list of columns in a dataframe \n",
    "        and return that dataframe\n",
    "    '''\n",
    "    \n",
    "    for col in col_list:\n",
    "\n",
    "        q1, q3 = df[col].quantile([.25, .75])  # get quartiles\n",
    "        \n",
    "        iqr = q3 - q1   # calculate interquartile range\n",
    "        \n",
    "        upper_bound = q3 + k * iqr   # get upper bound\n",
    "        lower_bound = q1 - k * iqr   # get lower bound\n",
    "\n",
    "        # return dataframe without outliers\n",
    "        \n",
    "        df = df[(df[col] > lower_bound) & (df[col] < upper_bound)]\n",
    "        \n",
    "    return df"
   ]
  },
  {
   "cell_type": "code",
   "execution_count": 4,
   "id": "3b5bdee1-9bd8-4783-8cfe-b9a90934be7f",
   "metadata": {},
   "outputs": [
    {
     "data": {
      "text/plain": [
       "(2152863, 7)"
      ]
     },
     "execution_count": 4,
     "metadata": {},
     "output_type": "execute_result"
    }
   ],
   "source": [
    "df.shape"
   ]
  },
  {
   "cell_type": "code",
   "execution_count": 5,
   "id": "6d232041-26f0-408c-9602-9f2396f4f0bb",
   "metadata": {},
   "outputs": [
    {
     "data": {
      "text/plain": [
       "(951807, 7)"
      ]
     },
     "execution_count": 5,
     "metadata": {},
     "output_type": "execute_result"
    }
   ],
   "source": [
    "df = remove_outliers(df, 1, df.columns)\n",
    "df.shape"
   ]
  },
  {
   "cell_type": "code",
   "execution_count": 6,
   "id": "b2d1c304-cfc4-4e43-950f-d28c6ae79b63",
   "metadata": {},
   "outputs": [],
   "source": [
    "def wrangle_zillow(df):\n",
    "    df = df.replace(r'^\\s*$', np.nan, regex=True)\n",
    "    df['area'] = df.calculatedfinishedsquarefeet\n",
    "    df = df.drop(columns='calculatedfinishedsquarefeet')\n",
    "    df = df.dropna()\n",
    "    df = df[df.bedroomcnt > 0]\n",
    "    df = df[df.bedroomcnt < 5]\n",
    "    df = df[df.bathroomcnt > 0] \n",
    "    df = df[df.bathroomcnt <= 3]\n",
    "    df = df[df.area < 5000]\n",
    "    df[\"taxvalue\"] = df.taxvaluedollarcnt\n",
    "    df = df.drop(columns=\"taxvaluedollarcnt\")\n",
    "    return df"
   ]
  },
  {
   "cell_type": "code",
   "execution_count": 7,
   "id": "3e15ca46-f024-4ce5-bec7-765827642495",
   "metadata": {},
   "outputs": [
    {
     "data": {
      "text/plain": [
       "(949610, 7)"
      ]
     },
     "execution_count": 7,
     "metadata": {},
     "output_type": "execute_result"
    }
   ],
   "source": [
    "df = wrangle_zillow(df)\n",
    "df.shape"
   ]
  },
  {
   "cell_type": "code",
   "execution_count": 8,
   "id": "f4f9d97b-ce04-4f64-bbb5-a93be5dec206",
   "metadata": {},
   "outputs": [
    {
     "data": {
      "text/html": [
       "<div>\n",
       "<style scoped>\n",
       "    .dataframe tbody tr th:only-of-type {\n",
       "        vertical-align: middle;\n",
       "    }\n",
       "\n",
       "    .dataframe tbody tr th {\n",
       "        vertical-align: top;\n",
       "    }\n",
       "\n",
       "    .dataframe thead th {\n",
       "        text-align: right;\n",
       "    }\n",
       "</style>\n",
       "<table border=\"1\" class=\"dataframe\">\n",
       "  <thead>\n",
       "    <tr style=\"text-align: right;\">\n",
       "      <th></th>\n",
       "      <th>bedroomcnt</th>\n",
       "      <th>bathroomcnt</th>\n",
       "      <th>yearbuilt</th>\n",
       "      <th>taxamount</th>\n",
       "      <th>fips</th>\n",
       "      <th>area</th>\n",
       "      <th>taxvalue</th>\n",
       "    </tr>\n",
       "  </thead>\n",
       "  <tbody>\n",
       "    <tr>\n",
       "      <th>19</th>\n",
       "      <td>3.0</td>\n",
       "      <td>2.0</td>\n",
       "      <td>1950.0</td>\n",
       "      <td>3110.99</td>\n",
       "      <td>6037.0</td>\n",
       "      <td>1300.0</td>\n",
       "      <td>233266.0</td>\n",
       "    </tr>\n",
       "    <tr>\n",
       "      <th>20</th>\n",
       "      <td>3.0</td>\n",
       "      <td>2.0</td>\n",
       "      <td>1951.0</td>\n",
       "      <td>3870.25</td>\n",
       "      <td>6037.0</td>\n",
       "      <td>1222.0</td>\n",
       "      <td>290492.0</td>\n",
       "    </tr>\n",
       "    <tr>\n",
       "      <th>41</th>\n",
       "      <td>4.0</td>\n",
       "      <td>2.0</td>\n",
       "      <td>1984.0</td>\n",
       "      <td>2559.65</td>\n",
       "      <td>6037.0</td>\n",
       "      <td>2143.0</td>\n",
       "      <td>209415.0</td>\n",
       "    </tr>\n",
       "    <tr>\n",
       "      <th>44</th>\n",
       "      <td>4.0</td>\n",
       "      <td>2.0</td>\n",
       "      <td>1971.0</td>\n",
       "      <td>2160.43</td>\n",
       "      <td>6037.0</td>\n",
       "      <td>1604.0</td>\n",
       "      <td>150502.0</td>\n",
       "    </tr>\n",
       "    <tr>\n",
       "      <th>770</th>\n",
       "      <td>3.0</td>\n",
       "      <td>2.0</td>\n",
       "      <td>1962.0</td>\n",
       "      <td>4915.66</td>\n",
       "      <td>6037.0</td>\n",
       "      <td>1766.0</td>\n",
       "      <td>390038.0</td>\n",
       "    </tr>\n",
       "  </tbody>\n",
       "</table>\n",
       "</div>"
      ],
      "text/plain": [
       "     bedroomcnt  bathroomcnt  yearbuilt  taxamount    fips    area  taxvalue\n",
       "19          3.0          2.0     1950.0    3110.99  6037.0  1300.0  233266.0\n",
       "20          3.0          2.0     1951.0    3870.25  6037.0  1222.0  290492.0\n",
       "41          4.0          2.0     1984.0    2559.65  6037.0  2143.0  209415.0\n",
       "44          4.0          2.0     1971.0    2160.43  6037.0  1604.0  150502.0\n",
       "770         3.0          2.0     1962.0    4915.66  6037.0  1766.0  390038.0"
      ]
     },
     "execution_count": 8,
     "metadata": {},
     "output_type": "execute_result"
    }
   ],
   "source": [
    "df.head()"
   ]
  },
  {
   "cell_type": "code",
   "execution_count": 9,
   "id": "73ed758d-b0d2-4e25-bc57-564cf6d41141",
   "metadata": {},
   "outputs": [
    {
     "data": {
      "text/plain": [
       "bedroomcnt     0\n",
       "bathroomcnt    0\n",
       "yearbuilt      0\n",
       "taxamount      0\n",
       "fips           0\n",
       "area           0\n",
       "taxvalue       0\n",
       "dtype: int64"
      ]
     },
     "execution_count": 9,
     "metadata": {},
     "output_type": "execute_result"
    }
   ],
   "source": [
    "df.isna().sum()"
   ]
  },
  {
   "cell_type": "code",
   "execution_count": 10,
   "id": "3c4be538-8cfe-432e-a5da-ef4ad72c742a",
   "metadata": {},
   "outputs": [
    {
     "name": "stdout",
     "output_type": "stream",
     "text": [
      "<class 'pandas.core.frame.DataFrame'>\n",
      "Int64Index: 949610 entries, 19 to 2152853\n",
      "Data columns (total 7 columns):\n",
      " #   Column       Non-Null Count   Dtype  \n",
      "---  ------       --------------   -----  \n",
      " 0   bedroomcnt   949610 non-null  float64\n",
      " 1   bathroomcnt  949610 non-null  float64\n",
      " 2   yearbuilt    949610 non-null  float64\n",
      " 3   taxamount    949610 non-null  float64\n",
      " 4   fips         949610 non-null  float64\n",
      " 5   area         949610 non-null  float64\n",
      " 6   taxvalue     949610 non-null  float64\n",
      "dtypes: float64(7)\n",
      "memory usage: 58.0 MB\n"
     ]
    }
   ],
   "source": [
    "df.info()"
   ]
  },
  {
   "cell_type": "code",
   "execution_count": 11,
   "id": "58db7a08-aa19-40a3-a945-8927fbaa8391",
   "metadata": {},
   "outputs": [
    {
     "data": {
      "text/html": [
       "<div>\n",
       "<style scoped>\n",
       "    .dataframe tbody tr th:only-of-type {\n",
       "        vertical-align: middle;\n",
       "    }\n",
       "\n",
       "    .dataframe tbody tr th {\n",
       "        vertical-align: top;\n",
       "    }\n",
       "\n",
       "    .dataframe thead th {\n",
       "        text-align: right;\n",
       "    }\n",
       "</style>\n",
       "<table border=\"1\" class=\"dataframe\">\n",
       "  <thead>\n",
       "    <tr style=\"text-align: right;\">\n",
       "      <th></th>\n",
       "      <th>bedroomcnt</th>\n",
       "      <th>bathroomcnt</th>\n",
       "      <th>yearbuilt</th>\n",
       "      <th>taxamount</th>\n",
       "      <th>fips</th>\n",
       "      <th>area</th>\n",
       "      <th>taxvalue</th>\n",
       "    </tr>\n",
       "  </thead>\n",
       "  <tbody>\n",
       "    <tr>\n",
       "      <th>19</th>\n",
       "      <td>3.0</td>\n",
       "      <td>2.0</td>\n",
       "      <td>1950.0</td>\n",
       "      <td>3110.99</td>\n",
       "      <td>6037.0</td>\n",
       "      <td>1300.0</td>\n",
       "      <td>233266.0</td>\n",
       "    </tr>\n",
       "    <tr>\n",
       "      <th>20</th>\n",
       "      <td>3.0</td>\n",
       "      <td>2.0</td>\n",
       "      <td>1951.0</td>\n",
       "      <td>3870.25</td>\n",
       "      <td>6037.0</td>\n",
       "      <td>1222.0</td>\n",
       "      <td>290492.0</td>\n",
       "    </tr>\n",
       "    <tr>\n",
       "      <th>41</th>\n",
       "      <td>4.0</td>\n",
       "      <td>2.0</td>\n",
       "      <td>1984.0</td>\n",
       "      <td>2559.65</td>\n",
       "      <td>6037.0</td>\n",
       "      <td>2143.0</td>\n",
       "      <td>209415.0</td>\n",
       "    </tr>\n",
       "    <tr>\n",
       "      <th>44</th>\n",
       "      <td>4.0</td>\n",
       "      <td>2.0</td>\n",
       "      <td>1971.0</td>\n",
       "      <td>2160.43</td>\n",
       "      <td>6037.0</td>\n",
       "      <td>1604.0</td>\n",
       "      <td>150502.0</td>\n",
       "    </tr>\n",
       "    <tr>\n",
       "      <th>770</th>\n",
       "      <td>3.0</td>\n",
       "      <td>2.0</td>\n",
       "      <td>1962.0</td>\n",
       "      <td>4915.66</td>\n",
       "      <td>6037.0</td>\n",
       "      <td>1766.0</td>\n",
       "      <td>390038.0</td>\n",
       "    </tr>\n",
       "  </tbody>\n",
       "</table>\n",
       "</div>"
      ],
      "text/plain": [
       "     bedroomcnt  bathroomcnt  yearbuilt  taxamount    fips    area  taxvalue\n",
       "19          3.0          2.0     1950.0    3110.99  6037.0  1300.0  233266.0\n",
       "20          3.0          2.0     1951.0    3870.25  6037.0  1222.0  290492.0\n",
       "41          4.0          2.0     1984.0    2559.65  6037.0  2143.0  209415.0\n",
       "44          4.0          2.0     1971.0    2160.43  6037.0  1604.0  150502.0\n",
       "770         3.0          2.0     1962.0    4915.66  6037.0  1766.0  390038.0"
      ]
     },
     "execution_count": 11,
     "metadata": {},
     "output_type": "execute_result"
    }
   ],
   "source": [
    "df.head()"
   ]
  },
  {
   "cell_type": "code",
   "execution_count": 12,
   "id": "01b0caf4-7b8d-461d-bb75-baff6bda8a9e",
   "metadata": {},
   "outputs": [],
   "source": [
    "def split(df):\n",
    "    '''\n",
    "    take in a DataFrame and return train, validate, and test DataFrames.\n",
    "    return train, validate, test DataFrames.\n",
    "    '''\n",
    "    train_validate, test = train_test_split(df, test_size=.2, random_state=123)\n",
    "    train, validate = train_test_split(train_validate, \n",
    "                                       test_size=.3, \n",
    "                                       random_state=123)\n",
    "    return train, validate, test"
   ]
  },
  {
   "cell_type": "code",
   "execution_count": 13,
   "id": "eb3a88ac-996b-4e36-8c1e-e6f8fd64b770",
   "metadata": {},
   "outputs": [
    {
     "data": {
      "text/plain": [
       "((531781, 7), (227907, 7), (189922, 7))"
      ]
     },
     "execution_count": 13,
     "metadata": {},
     "output_type": "execute_result"
    }
   ],
   "source": [
    "train, validate, test = split(df)\n",
    "train.shape, validate.shape, test.shape"
   ]
  },
  {
   "cell_type": "code",
   "execution_count": 14,
   "id": "48962840-7963-4592-b3d7-053466a0dac8",
   "metadata": {},
   "outputs": [
    {
     "data": {
      "text/html": [
       "<div>\n",
       "<style scoped>\n",
       "    .dataframe tbody tr th:only-of-type {\n",
       "        vertical-align: middle;\n",
       "    }\n",
       "\n",
       "    .dataframe tbody tr th {\n",
       "        vertical-align: top;\n",
       "    }\n",
       "\n",
       "    .dataframe thead th {\n",
       "        text-align: right;\n",
       "    }\n",
       "</style>\n",
       "<table border=\"1\" class=\"dataframe\">\n",
       "  <thead>\n",
       "    <tr style=\"text-align: right;\">\n",
       "      <th></th>\n",
       "      <th>bedroomcnt</th>\n",
       "      <th>bathroomcnt</th>\n",
       "      <th>yearbuilt</th>\n",
       "      <th>taxamount</th>\n",
       "      <th>fips</th>\n",
       "      <th>area</th>\n",
       "    </tr>\n",
       "  </thead>\n",
       "  <tbody>\n",
       "    <tr>\n",
       "      <th>1968540</th>\n",
       "      <td>4.0</td>\n",
       "      <td>2.0</td>\n",
       "      <td>1973.0</td>\n",
       "      <td>7343.40</td>\n",
       "      <td>6059.0</td>\n",
       "      <td>1853.0</td>\n",
       "    </tr>\n",
       "    <tr>\n",
       "      <th>19629</th>\n",
       "      <td>4.0</td>\n",
       "      <td>2.5</td>\n",
       "      <td>1978.0</td>\n",
       "      <td>6907.38</td>\n",
       "      <td>6059.0</td>\n",
       "      <td>2370.0</td>\n",
       "    </tr>\n",
       "    <tr>\n",
       "      <th>1791940</th>\n",
       "      <td>3.0</td>\n",
       "      <td>2.0</td>\n",
       "      <td>1955.0</td>\n",
       "      <td>4220.64</td>\n",
       "      <td>6037.0</td>\n",
       "      <td>1139.0</td>\n",
       "    </tr>\n",
       "    <tr>\n",
       "      <th>2115212</th>\n",
       "      <td>3.0</td>\n",
       "      <td>2.0</td>\n",
       "      <td>1960.0</td>\n",
       "      <td>5212.85</td>\n",
       "      <td>6037.0</td>\n",
       "      <td>1395.0</td>\n",
       "    </tr>\n",
       "    <tr>\n",
       "      <th>1870269</th>\n",
       "      <td>3.0</td>\n",
       "      <td>2.0</td>\n",
       "      <td>1955.0</td>\n",
       "      <td>5719.30</td>\n",
       "      <td>6059.0</td>\n",
       "      <td>1322.0</td>\n",
       "    </tr>\n",
       "  </tbody>\n",
       "</table>\n",
       "</div>"
      ],
      "text/plain": [
       "         bedroomcnt  bathroomcnt  yearbuilt  taxamount    fips    area\n",
       "1968540         4.0          2.0     1973.0    7343.40  6059.0  1853.0\n",
       "19629           4.0          2.5     1978.0    6907.38  6059.0  2370.0\n",
       "1791940         3.0          2.0     1955.0    4220.64  6037.0  1139.0\n",
       "2115212         3.0          2.0     1960.0    5212.85  6037.0  1395.0\n",
       "1870269         3.0          2.0     1955.0    5719.30  6059.0  1322.0"
      ]
     },
     "execution_count": 14,
     "metadata": {},
     "output_type": "execute_result"
    }
   ],
   "source": [
    "\n",
    "target = \"taxvalue\"\n",
    "\n",
    "# split train into X (dataframe, drop target) & y (series, keep target only)\n",
    "X_train = train.drop(columns=[target])\n",
    "y_train = train[target]\n",
    "\n",
    "# split validate into X (dataframe, drop target) & y (series, keep target only)\n",
    "X_validate = validate.drop(columns=[target])\n",
    "y_validate = validate[target]\n",
    "\n",
    "# split test into X (dataframe, drop target) & y (series, keep target only)\n",
    "X_test = test.drop(columns=[target])\n",
    "y_test = test[target]\n",
    "\n",
    "X_train.head()"
   ]
  },
  {
   "cell_type": "code",
   "execution_count": 15,
   "id": "0f05b53b-3e3c-4535-aa65-77eff30cc302",
   "metadata": {},
   "outputs": [
    {
     "data": {
      "text/plain": [
       "(189922,)"
      ]
     },
     "execution_count": 15,
     "metadata": {},
     "output_type": "execute_result"
    }
   ],
   "source": [
    "y_test.shape"
   ]
  },
  {
   "cell_type": "code",
   "execution_count": 16,
   "id": "e46fd7e2-49ac-4fe6-a98f-8e5599b3cfcd",
   "metadata": {},
   "outputs": [
    {
     "data": {
      "text/plain": [
       "531781"
      ]
     },
     "execution_count": 16,
     "metadata": {},
     "output_type": "execute_result"
    }
   ],
   "source": [
    "y_train.head()\n",
    "len(y_train)"
   ]
  },
  {
   "cell_type": "code",
   "execution_count": 17,
   "id": "6bdd0fb8-689b-45e5-a349-92214c7d2ca5",
   "metadata": {},
   "outputs": [
    {
     "data": {
      "image/png": "[encoded data removed]",
      "text/plain": [
       "<Figure size 432x288 with 1 Axes>"
      ]
     },
     "metadata": {
      "needs_background": "light"
     },
     "output_type": "display_data"
    }
   ],
   "source": [
    "# how do we determine distribution?\n",
    "plt.hist(y_train)\n",
    "plt.title('Distribution of Target(taxvalue)')\n",
    "plt.show()"
   ]
  },
  {
   "cell_type": "code",
   "execution_count": 18,
   "id": "0988dd33-0944-4dd0-8b7e-c95545ef8876",
   "metadata": {},
   "outputs": [],
   "source": [
    "y_train = pd.DataFrame(y_train)\n",
    "y_validate = pd.DataFrame(y_validate)"
   ]
  },
  {
   "cell_type": "code",
   "execution_count": 19,
   "id": "0cc140e9-57b0-4575-865f-a7fc44e2d209",
   "metadata": {},
   "outputs": [],
   "source": [
    "# 1. Predict taxvalue_pred_mean\n",
    "taxvalue_pred_mean = y_train.taxvalue.mean()\n",
    "y_train['taxvalue_pred_mean'] = taxvalue_pred_mean\n",
    "y_validate['taxvalue_pred_mean'] = taxvalue_pred_mean"
   ]
  },
  {
   "cell_type": "code",
   "execution_count": 20,
   "id": "3d0d615f-33cd-4365-b7f1-09c472a3a75e",
   "metadata": {},
   "outputs": [],
   "source": [
    "# 2. compute taxvalue_pred_median\n",
    "taxvalue_pred_median = y_train.taxvalue.median()\n",
    "y_train['taxvalue_pred_median'] = taxvalue_pred_median\n",
    "y_validate['taxvalue_pred_median'] = taxvalue_pred_median"
   ]
  },
  {
   "cell_type": "code",
   "execution_count": 21,
   "id": "42f91553-0f00-47af-b518-f266bba46fe7",
   "metadata": {},
   "outputs": [],
   "source": [
    "# 3. RMSE of taxvalue_pred_mean\n",
    "rmse_train = mean_squared_error(y_train.taxvalue, y_train.taxvalue_pred_mean) ** .5\n",
    "rmse_validate = mean_squared_error(y_validate.taxvalue, y_validate.taxvalue_pred_mean) ** (1/2)"
   ]
  },
  {
   "cell_type": "code",
   "execution_count": 22,
   "id": "e7481a0a-9afd-492a-afc2-63bd09b51fa8",
   "metadata": {},
   "outputs": [
    {
     "name": "stdout",
     "output_type": "stream",
     "text": [
      "RMSE using Mean\n",
      "Train/In-Sample:  171218.72 \n",
      "Validate/Out-of-Sample:  171312.28\n",
      "RMSE using Median\n",
      "Train/In-Sample:  172053.92 \n",
      "Validate/Out-of-Sample:  172128.49\n"
     ]
    }
   ],
   "source": [
    "print(\"RMSE using Mean\\nTrain/In-Sample: \", round(rmse_train, 2), \n",
    "      \"\\nValidate/Out-of-Sample: \", round(rmse_validate, 2))\n",
    "\n",
    "# 4. RMSE of taxvalue_pred_median\n",
    "rmse_train = mean_squared_error(y_train.taxvalue, y_train.taxvalue_pred_median) ** .5\n",
    "rmse_validate = mean_squared_error(y_validate.taxvalue, y_validate.taxvalue_pred_median) ** .5\n",
    "print(\"RMSE using Median\\nTrain/In-Sample: \", round(rmse_train, 2), \n",
    "      \"\\nValidate/Out-of-Sample: \", round(rmse_validate, 2))"
   ]
  },
  {
   "cell_type": "code",
   "execution_count": 23,
   "id": "e273c0fa-86cd-48ad-9a23-8bd2ecd937f6",
   "metadata": {},
   "outputs": [],
   "source": [
    "from sklearn.metrics import explained_variance_score"
   ]
  },
  {
   "cell_type": "code",
   "execution_count": 24,
   "id": "ef7d9bd5-2fed-4ccc-82d8-bf34ef573e85",
   "metadata": {},
   "outputs": [],
   "source": [
    "def make_metric_df(y, y_pred, model_name, metric_df):\n",
    "    if metric_df.size ==0:\n",
    "        metric_df = pd.DataFrame(data=[\n",
    "            {\n",
    "                'model': model_name, \n",
    "                'RMSE_validate': mean_squared_error(\n",
    "                    y,\n",
    "                    y_pred) ** .5,\n",
    "                'r^2_validate': explained_variance_score(\n",
    "                    y,\n",
    "                    y_pred)\n",
    "            }])\n",
    "        return metric_df\n",
    "    else:\n",
    "        return metric_df.append(\n",
    "            {\n",
    "                'model': model_name, \n",
    "                'RMSE_validate': mean_squared_error(\n",
    "                    y,\n",
    "                    y_pred) ** .5,\n",
    "                'r^2_validate': explained_variance_score(\n",
    "                    y,\n",
    "                    y_pred)\n",
    "            }, ignore_index=True)"
   ]
  },
  {
   "cell_type": "code",
   "execution_count": 25,
   "id": "bc62859b-62d2-4763-b24c-5ee890fc6ed1",
   "metadata": {},
   "outputs": [],
   "source": [
    "metric_df = pd.DataFrame()\n",
    "metric_df = make_metric_df(y_train.taxvalue,\n",
    "                           y_train.taxvalue_pred_median,\n",
    "                           'median_baseline',\n",
    "                          metric_df)"
   ]
  },
  {
   "cell_type": "code",
   "execution_count": 26,
   "id": "ddfefbd2-ec90-4b53-acfd-4bcca5949011",
   "metadata": {},
   "outputs": [
    {
     "data": {
      "text/html": [
       "<div>\n",
       "<style scoped>\n",
       "    .dataframe tbody tr th:only-of-type {\n",
       "        vertical-align: middle;\n",
       "    }\n",
       "\n",
       "    .dataframe tbody tr th {\n",
       "        vertical-align: top;\n",
       "    }\n",
       "\n",
       "    .dataframe thead th {\n",
       "        text-align: right;\n",
       "    }\n",
       "</style>\n",
       "<table border=\"1\" class=\"dataframe\">\n",
       "  <thead>\n",
       "    <tr style=\"text-align: right;\">\n",
       "      <th></th>\n",
       "      <th>model</th>\n",
       "      <th>RMSE_validate</th>\n",
       "      <th>r^2_validate</th>\n",
       "    </tr>\n",
       "  </thead>\n",
       "  <tbody>\n",
       "    <tr>\n",
       "      <th>0</th>\n",
       "      <td>median_baseline</td>\n",
       "      <td>172053.923436</td>\n",
       "      <td>0.0</td>\n",
       "    </tr>\n",
       "  </tbody>\n",
       "</table>\n",
       "</div>"
      ],
      "text/plain": [
       "             model  RMSE_validate  r^2_validate\n",
       "0  median_baseline  172053.923436           0.0"
      ]
     },
     "execution_count": 26,
     "metadata": {},
     "output_type": "execute_result"
    }
   ],
   "source": [
    "metric_df"
   ]
  },
  {
   "cell_type": "code",
   "execution_count": 27,
   "id": "0cdf1e49-53f1-47a2-b056-71f73408f82c",
   "metadata": {},
   "outputs": [
    {
     "data": {
      "text/html": [
       "<div>\n",
       "<style scoped>\n",
       "    .dataframe tbody tr th:only-of-type {\n",
       "        vertical-align: middle;\n",
       "    }\n",
       "\n",
       "    .dataframe tbody tr th {\n",
       "        vertical-align: top;\n",
       "    }\n",
       "\n",
       "    .dataframe thead th {\n",
       "        text-align: right;\n",
       "    }\n",
       "</style>\n",
       "<table border=\"1\" class=\"dataframe\">\n",
       "  <thead>\n",
       "    <tr style=\"text-align: right;\">\n",
       "      <th></th>\n",
       "      <th>taxvalue</th>\n",
       "      <th>taxvalue_pred_mean</th>\n",
       "      <th>taxvalue_pred_median</th>\n",
       "    </tr>\n",
       "  </thead>\n",
       "  <tbody>\n",
       "    <tr>\n",
       "      <th>1968540</th>\n",
       "      <td>720827.0</td>\n",
       "      <td>311343.316687</td>\n",
       "      <td>294411.0</td>\n",
       "    </tr>\n",
       "    <tr>\n",
       "      <th>19629</th>\n",
       "      <td>603336.0</td>\n",
       "      <td>311343.316687</td>\n",
       "      <td>294411.0</td>\n",
       "    </tr>\n",
       "    <tr>\n",
       "      <th>1791940</th>\n",
       "      <td>308000.0</td>\n",
       "      <td>311343.316687</td>\n",
       "      <td>294411.0</td>\n",
       "    </tr>\n",
       "    <tr>\n",
       "      <th>2115212</th>\n",
       "      <td>449241.0</td>\n",
       "      <td>311343.316687</td>\n",
       "      <td>294411.0</td>\n",
       "    </tr>\n",
       "    <tr>\n",
       "      <th>1870269</th>\n",
       "      <td>496000.0</td>\n",
       "      <td>311343.316687</td>\n",
       "      <td>294411.0</td>\n",
       "    </tr>\n",
       "  </tbody>\n",
       "</table>\n",
       "</div>"
      ],
      "text/plain": [
       "         taxvalue  taxvalue_pred_mean  taxvalue_pred_median\n",
       "1968540  720827.0       311343.316687              294411.0\n",
       "19629    603336.0       311343.316687              294411.0\n",
       "1791940  308000.0       311343.316687              294411.0\n",
       "2115212  449241.0       311343.316687              294411.0\n",
       "1870269  496000.0       311343.316687              294411.0"
      ]
     },
     "execution_count": 27,
     "metadata": {},
     "output_type": "execute_result"
    }
   ],
   "source": [
    "y_train.head()"
   ]
  },
  {
   "cell_type": "code",
   "execution_count": 28,
   "id": "fa5c279b-16b7-41b0-a0e4-e192b6d1a834",
   "metadata": {},
   "outputs": [
    {
     "data": {
      "image/png": "[encoded data removed]",
      "text/plain": [
       "<Figure size 432x288 with 1 Axes>"
      ]
     },
     "metadata": {
      "needs_background": "light"
     },
     "output_type": "display_data"
    }
   ],
   "source": [
    "# plot to visualize actual vs predicted. \n",
    "plt.hist(y_train.taxvalue, color='blue', alpha=.5, label=\"Actual\")\n",
    "plt.hist(y_train.taxvalue_pred_mean, bins=1, color='red', alpha=.5, rwidth=1000, label=\"Predicted - Mean\")\n",
    "plt.hist(y_train.taxvalue_pred_median, bins=1, color='orange', alpha=.5, rwidth=1000, label=\"Predicted - Median\")\n",
    "plt.xlabel(\"taxvalue\")\n",
    "plt.ylabel(\"Count\")\n",
    "plt.legend()\n",
    "plt.show()"
   ]
  },
  {
   "cell_type": "code",
   "execution_count": 29,
   "id": "3942bd98-2027-4516-8366-4a3880b84dbe",
   "metadata": {},
   "outputs": [
    {
     "name": "stdout",
     "output_type": "stream",
     "text": [
      "RMSE for OLS using LinearRegression\n",
      "Training/In-Sample:  38454.95351374172 \n",
      "Validation/Out-of-Sample:  38038.274041198194\n"
     ]
    }
   ],
   "source": [
    "lm = LinearRegression(normalize=True)\n",
    "\n",
    "lm.fit(X_train, y_train.taxvalue)\n",
    "\n",
    "y_train['taxvalue_pred_lm'] = lm.predict(X_train)\n",
    "\n",
    "# evaluate: rmse\n",
    "rmse_train = mean_squared_error(y_train.taxvalue, y_train.taxvalue_pred_lm) ** (1/2)\n",
    "\n",
    "# predict validate\n",
    "y_validate['taxvalue_pred_lm'] = lm.predict(X_validate)\n",
    "\n",
    "# evaluate: rmse\n",
    "rmse_validate = mean_squared_error(y_validate.taxvalue, y_validate.taxvalue_pred_lm) ** (1/2)\n",
    "\n",
    "print(\"RMSE for OLS using LinearRegression\\nTraining/In-Sample: \", rmse_train, \n",
    "      \"\\nValidation/Out-of-Sample: \", rmse_validate)"
   ]
  },
  {
   "cell_type": "code",
   "execution_count": 30,
   "id": "750f0bdd-e490-4bbf-8f1e-07e557a0bd0f",
   "metadata": {},
   "outputs": [],
   "source": [
    "metric_df = metric_df.append({\n",
    "    'model': 'OLS Regressor', \n",
    "    'RMSE_validate': rmse_validate,\n",
    "    'r^2_validate': explained_variance_score(y_validate.taxvalue, y_validate.taxvalue_pred_lm)}, ignore_index=True)"
   ]
  },
  {
   "cell_type": "code",
   "execution_count": 31,
   "id": "25401062-931b-44da-b506-6c64ef5ee953",
   "metadata": {},
   "outputs": [
    {
     "data": {
      "text/html": [
       "<div>\n",
       "<style scoped>\n",
       "    .dataframe tbody tr th:only-of-type {\n",
       "        vertical-align: middle;\n",
       "    }\n",
       "\n",
       "    .dataframe tbody tr th {\n",
       "        vertical-align: top;\n",
       "    }\n",
       "\n",
       "    .dataframe thead th {\n",
       "        text-align: right;\n",
       "    }\n",
       "</style>\n",
       "<table border=\"1\" class=\"dataframe\">\n",
       "  <thead>\n",
       "    <tr style=\"text-align: right;\">\n",
       "      <th></th>\n",
       "      <th>model</th>\n",
       "      <th>RMSE_validate</th>\n",
       "      <th>r^2_validate</th>\n",
       "    </tr>\n",
       "  </thead>\n",
       "  <tbody>\n",
       "    <tr>\n",
       "      <th>0</th>\n",
       "      <td>median_baseline</td>\n",
       "      <td>172053.923436</td>\n",
       "      <td>0.000000</td>\n",
       "    </tr>\n",
       "    <tr>\n",
       "      <th>1</th>\n",
       "      <td>OLS Regressor</td>\n",
       "      <td>38038.274041</td>\n",
       "      <td>0.950698</td>\n",
       "    </tr>\n",
       "  </tbody>\n",
       "</table>\n",
       "</div>"
      ],
      "text/plain": [
       "             model  RMSE_validate  r^2_validate\n",
       "0  median_baseline  172053.923436      0.000000\n",
       "1    OLS Regressor   38038.274041      0.950698"
      ]
     },
     "execution_count": 31,
     "metadata": {},
     "output_type": "execute_result"
    }
   ],
   "source": [
    "metric_df"
   ]
  },
  {
   "cell_type": "code",
   "execution_count": 32,
   "id": "99a7b94f-bce5-484c-95b9-d92c34c03370",
   "metadata": {},
   "outputs": [
    {
     "name": "stdout",
     "output_type": "stream",
     "text": [
      "RMSE for Lasso + Lars\n",
      "Training/In-Sample:  38507.3849249711 \n",
      "Validation/Out-of-Sample:  38090.02005903035\n"
     ]
    }
   ],
   "source": [
    "# create the model object\n",
    "lars = LassoLars(alpha=1)\n",
    "\n",
    "# fit the model to our training data. We must specify the column in y_train, \n",
    "# since we have converted it to a dataframe from a series!\n",
    "lars.fit(X_train, y_train.taxvalue)\n",
    "\n",
    "# predict train\n",
    "y_train['taxvalue_pred_lars'] = lars.predict(X_train)\n",
    "\n",
    "# evaluate: rmse\n",
    "rmse_train = mean_squared_error(y_train.taxvalue, y_train.taxvalue_pred_lars) ** (1/2)\n",
    "\n",
    "# predict validate\n",
    "y_validate['taxvalue_pred_lars'] = lars.predict(X_validate)\n",
    "\n",
    "# evaluate: rmse\n",
    "rmse_validate = mean_squared_error(y_validate.taxvalue, y_validate.taxvalue_pred_lars) ** (1/2)\n",
    "\n",
    "print(\"RMSE for Lasso + Lars\\nTraining/In-Sample: \", rmse_train, \n",
    "      \"\\nValidation/Out-of-Sample: \", rmse_validate)"
   ]
  },
  {
   "cell_type": "code",
   "execution_count": 33,
   "id": "9921bd29-87d5-4381-a755-6afeb3ccec2b",
   "metadata": {},
   "outputs": [
    {
     "data": {
      "text/html": [
       "<div>\n",
       "<style scoped>\n",
       "    .dataframe tbody tr th:only-of-type {\n",
       "        vertical-align: middle;\n",
       "    }\n",
       "\n",
       "    .dataframe tbody tr th {\n",
       "        vertical-align: top;\n",
       "    }\n",
       "\n",
       "    .dataframe thead th {\n",
       "        text-align: right;\n",
       "    }\n",
       "</style>\n",
       "<table border=\"1\" class=\"dataframe\">\n",
       "  <thead>\n",
       "    <tr style=\"text-align: right;\">\n",
       "      <th></th>\n",
       "      <th>model</th>\n",
       "      <th>RMSE_validate</th>\n",
       "      <th>r^2_validate</th>\n",
       "    </tr>\n",
       "  </thead>\n",
       "  <tbody>\n",
       "    <tr>\n",
       "      <th>0</th>\n",
       "      <td>median_baseline</td>\n",
       "      <td>172053.923436</td>\n",
       "      <td>0.000000</td>\n",
       "    </tr>\n",
       "    <tr>\n",
       "      <th>1</th>\n",
       "      <td>OLS Regressor</td>\n",
       "      <td>38038.274041</td>\n",
       "      <td>0.950698</td>\n",
       "    </tr>\n",
       "    <tr>\n",
       "      <th>2</th>\n",
       "      <td>lasso_alpha_1</td>\n",
       "      <td>38090.020059</td>\n",
       "      <td>0.950564</td>\n",
       "    </tr>\n",
       "  </tbody>\n",
       "</table>\n",
       "</div>"
      ],
      "text/plain": [
       "             model  RMSE_validate  r^2_validate\n",
       "0  median_baseline  172053.923436      0.000000\n",
       "1    OLS Regressor   38038.274041      0.950698\n",
       "2    lasso_alpha_1   38090.020059      0.950564"
      ]
     },
     "execution_count": 33,
     "metadata": {},
     "output_type": "execute_result"
    }
   ],
   "source": [
    "metric_df = make_metric_df(y_validate.taxvalue,\n",
    "               y_validate.taxvalue_pred_lars,\n",
    "               'lasso_alpha_1',\n",
    "               metric_df)\n",
    "metric_df"
   ]
  },
  {
   "cell_type": "code",
   "execution_count": 34,
   "id": "b4313f03-ad86-4d08-ae41-52c472c5b150",
   "metadata": {},
   "outputs": [
    {
     "name": "stdout",
     "output_type": "stream",
     "text": [
      "RMSE for Lasso + Lars\n",
      "Training/In-Sample:  38628.95692914353 \n",
      "Validation/Out-of-Sample:  38211.30768086119\n"
     ]
    }
   ],
   "source": [
    "# create the model object\n",
    "lars2 = LassoLars(alpha=2)\n",
    "\n",
    "# fit the model to our training data. We must specify the column in y_train, \n",
    "# since we have converted it to a dataframe from a series!\n",
    "lars2.fit(X_train, y_train.taxvalue)\n",
    "\n",
    "# predict train\n",
    "y_train['taxvalue_pred_lars2'] = lars2.predict(X_train)\n",
    "\n",
    "# evaluate: rmse\n",
    "rmse_train = mean_squared_error(y_train.taxvalue, y_train.taxvalue_pred_lars2) ** (1/2)\n",
    "\n",
    "# predict validate\n",
    "y_validate['taxvalue_pred_lars2'] = lars2.predict(X_validate)\n",
    "\n",
    "# evaluate: rmse\n",
    "rmse_validate = mean_squared_error(y_validate.taxvalue, y_validate.taxvalue_pred_lars2) ** (1/2)\n",
    "\n",
    "print(\"RMSE for Lasso + Lars\\nTraining/In-Sample: \", rmse_train, \n",
    "      \"\\nValidation/Out-of-Sample: \", rmse_validate)"
   ]
  },
  {
   "cell_type": "code",
   "execution_count": 35,
   "id": "f920f4f1-53cb-46f8-a6ca-202f8da3adc6",
   "metadata": {},
   "outputs": [
    {
     "data": {
      "text/html": [
       "<div>\n",
       "<style scoped>\n",
       "    .dataframe tbody tr th:only-of-type {\n",
       "        vertical-align: middle;\n",
       "    }\n",
       "\n",
       "    .dataframe tbody tr th {\n",
       "        vertical-align: top;\n",
       "    }\n",
       "\n",
       "    .dataframe thead th {\n",
       "        text-align: right;\n",
       "    }\n",
       "</style>\n",
       "<table border=\"1\" class=\"dataframe\">\n",
       "  <thead>\n",
       "    <tr style=\"text-align: right;\">\n",
       "      <th></th>\n",
       "      <th>model</th>\n",
       "      <th>RMSE_validate</th>\n",
       "      <th>r^2_validate</th>\n",
       "    </tr>\n",
       "  </thead>\n",
       "  <tbody>\n",
       "    <tr>\n",
       "      <th>0</th>\n",
       "      <td>median_baseline</td>\n",
       "      <td>172053.923436</td>\n",
       "      <td>0.000000</td>\n",
       "    </tr>\n",
       "    <tr>\n",
       "      <th>1</th>\n",
       "      <td>OLS Regressor</td>\n",
       "      <td>38038.274041</td>\n",
       "      <td>0.950698</td>\n",
       "    </tr>\n",
       "    <tr>\n",
       "      <th>2</th>\n",
       "      <td>lasso_alpha_1</td>\n",
       "      <td>38090.020059</td>\n",
       "      <td>0.950564</td>\n",
       "    </tr>\n",
       "    <tr>\n",
       "      <th>3</th>\n",
       "      <td>lasso_alpha_2</td>\n",
       "      <td>38211.307681</td>\n",
       "      <td>0.950249</td>\n",
       "    </tr>\n",
       "  </tbody>\n",
       "</table>\n",
       "</div>"
      ],
      "text/plain": [
       "             model  RMSE_validate  r^2_validate\n",
       "0  median_baseline  172053.923436      0.000000\n",
       "1    OLS Regressor   38038.274041      0.950698\n",
       "2    lasso_alpha_1   38090.020059      0.950564\n",
       "3    lasso_alpha_2   38211.307681      0.950249"
      ]
     },
     "execution_count": 35,
     "metadata": {},
     "output_type": "execute_result"
    }
   ],
   "source": [
    "metric_df = make_metric_df(y_validate.taxvalue,\n",
    "               y_validate.taxvalue_pred_lars2,\n",
    "               'lasso_alpha_2',\n",
    "               metric_df)\n",
    "metric_df"
   ]
  },
  {
   "cell_type": "code",
   "execution_count": 36,
   "id": "0f874d4e-dee5-4cc5-825a-a12e63d61f38",
   "metadata": {},
   "outputs": [
    {
     "name": "stdout",
     "output_type": "stream",
     "text": [
      "RMSE for GLM using Tweedie, power=1 & alpha=0\n",
      "Training/In-Sample:  171218.71749700446 \n",
      "Validation/Out-of-Sample:  171218.71749700446\n"
     ]
    }
   ],
   "source": [
    "# create the model object\n",
    "glm = TweedieRegressor(power=1, alpha=0)\n",
    "\n",
    "\n",
    "# fit the model to our training data. We must specify the column in y_train, \n",
    "# since we have converted it to a dataframe from a series! \n",
    "glm.fit(X_train, y_train.taxvalue)\n",
    "\n",
    "# predict train\n",
    "y_train['taxvalue_pred_glm'] = glm.predict(X_train)\n",
    "\n",
    "# evaluate: rmse\n",
    "rmse_train = mean_squared_error(y_train.taxvalue, y_train.taxvalue_pred_glm) ** (1/2)\n",
    "\n",
    "# predict validate\n",
    "y_validate['taxvalue_pred_glm'] = glm.predict(X_validate)\n",
    "\n",
    "# evaluate: rmse\n",
    "rmse_validate = mean_squared_error(y_train.taxvalue, y_train.taxvalue_pred_glm) ** (1/2)\n",
    "\n",
    "print(\"RMSE for GLM using Tweedie, power=1 & alpha=0\\nTraining/In-Sample: \", rmse_train, \n",
    "      \"\\nValidation/Out-of-Sample: \", rmse_validate)"
   ]
  },
  {
   "cell_type": "code",
   "execution_count": 37,
   "id": "adaee5ed-162c-4e35-8726-7d0524648870",
   "metadata": {},
   "outputs": [
    {
     "data": {
      "text/html": [
       "<div>\n",
       "<style scoped>\n",
       "    .dataframe tbody tr th:only-of-type {\n",
       "        vertical-align: middle;\n",
       "    }\n",
       "\n",
       "    .dataframe tbody tr th {\n",
       "        vertical-align: top;\n",
       "    }\n",
       "\n",
       "    .dataframe thead th {\n",
       "        text-align: right;\n",
       "    }\n",
       "</style>\n",
       "<table border=\"1\" class=\"dataframe\">\n",
       "  <thead>\n",
       "    <tr style=\"text-align: right;\">\n",
       "      <th></th>\n",
       "      <th>model</th>\n",
       "      <th>RMSE_validate</th>\n",
       "      <th>r^2_validate</th>\n",
       "    </tr>\n",
       "  </thead>\n",
       "  <tbody>\n",
       "    <tr>\n",
       "      <th>0</th>\n",
       "      <td>median_baseline</td>\n",
       "      <td>172053.923436</td>\n",
       "      <td>0.000000</td>\n",
       "    </tr>\n",
       "    <tr>\n",
       "      <th>1</th>\n",
       "      <td>OLS Regressor</td>\n",
       "      <td>38038.274041</td>\n",
       "      <td>0.950698</td>\n",
       "    </tr>\n",
       "    <tr>\n",
       "      <th>2</th>\n",
       "      <td>lasso_alpha_1</td>\n",
       "      <td>38090.020059</td>\n",
       "      <td>0.950564</td>\n",
       "    </tr>\n",
       "    <tr>\n",
       "      <th>3</th>\n",
       "      <td>lasso_alpha_2</td>\n",
       "      <td>38211.307681</td>\n",
       "      <td>0.950249</td>\n",
       "    </tr>\n",
       "    <tr>\n",
       "      <th>4</th>\n",
       "      <td>TweedieRegressor</td>\n",
       "      <td>171312.283104</td>\n",
       "      <td>0.000000</td>\n",
       "    </tr>\n",
       "  </tbody>\n",
       "</table>\n",
       "</div>"
      ],
      "text/plain": [
       "              model  RMSE_validate  r^2_validate\n",
       "0   median_baseline  172053.923436      0.000000\n",
       "1     OLS Regressor   38038.274041      0.950698\n",
       "2     lasso_alpha_1   38090.020059      0.950564\n",
       "3     lasso_alpha_2   38211.307681      0.950249\n",
       "4  TweedieRegressor  171312.283104      0.000000"
      ]
     },
     "execution_count": 37,
     "metadata": {},
     "output_type": "execute_result"
    }
   ],
   "source": [
    "metric_df = make_metric_df(y_validate.taxvalue,\n",
    "               y_validate.taxvalue_pred_glm,\n",
    "               'TweedieRegressor',\n",
    "               metric_df)\n",
    "metric_df"
   ]
  },
  {
   "cell_type": "markdown",
   "id": "4dd9c79a-825d-4cdb-83e5-a2d1c16da3af",
   "metadata": {},
   "source": [
    "3. Work through all of the steps outlined in the lesson, from setting the baseline to selected a model and evaluating the final model on your test data."
   ]
  },
  {
   "cell_type": "code",
   "execution_count": 38,
   "id": "b04cc31e-6603-43ab-a942-0abec7e09a02",
   "metadata": {},
   "outputs": [
    {
     "data": {
      "text/html": [
       "<div>\n",
       "<style scoped>\n",
       "    .dataframe tbody tr th:only-of-type {\n",
       "        vertical-align: middle;\n",
       "    }\n",
       "\n",
       "    .dataframe tbody tr th {\n",
       "        vertical-align: top;\n",
       "    }\n",
       "\n",
       "    .dataframe thead th {\n",
       "        text-align: right;\n",
       "    }\n",
       "</style>\n",
       "<table border=\"1\" class=\"dataframe\">\n",
       "  <thead>\n",
       "    <tr style=\"text-align: right;\">\n",
       "      <th></th>\n",
       "      <th>taxvalue</th>\n",
       "    </tr>\n",
       "  </thead>\n",
       "  <tbody>\n",
       "    <tr>\n",
       "      <th>286683</th>\n",
       "      <td>263476.0</td>\n",
       "    </tr>\n",
       "    <tr>\n",
       "      <th>1901770</th>\n",
       "      <td>543690.0</td>\n",
       "    </tr>\n",
       "    <tr>\n",
       "      <th>1354840</th>\n",
       "      <td>660000.0</td>\n",
       "    </tr>\n",
       "    <tr>\n",
       "      <th>242185</th>\n",
       "      <td>339503.0</td>\n",
       "    </tr>\n",
       "    <tr>\n",
       "      <th>1718556</th>\n",
       "      <td>58768.0</td>\n",
       "    </tr>\n",
       "  </tbody>\n",
       "</table>\n",
       "</div>"
      ],
      "text/plain": [
       "         taxvalue\n",
       "286683   263476.0\n",
       "1901770  543690.0\n",
       "1354840  660000.0\n",
       "242185   339503.0\n",
       "1718556   58768.0"
      ]
     },
     "execution_count": 38,
     "metadata": {},
     "output_type": "execute_result"
    }
   ],
   "source": [
    "y_test = pd.DataFrame(y_test)\n",
    "y_test.head()"
   ]
  },
  {
   "cell_type": "code",
   "execution_count": 39,
   "id": "46663bac-de5a-412e-8416-e39c5867b56e",
   "metadata": {},
   "outputs": [
    {
     "data": {
      "text/plain": [
       "((189922, 1), (189922, 6))"
      ]
     },
     "execution_count": 39,
     "metadata": {},
     "output_type": "execute_result"
    }
   ],
   "source": [
    "y_test.shape, X_test.shape"
   ]
  },
  {
   "cell_type": "code",
   "execution_count": 40,
   "id": "330bb5a8-4153-426a-a96d-c17e34ccb52e",
   "metadata": {},
   "outputs": [
    {
     "data": {
      "text/html": [
       "<div>\n",
       "<style scoped>\n",
       "    .dataframe tbody tr th:only-of-type {\n",
       "        vertical-align: middle;\n",
       "    }\n",
       "\n",
       "    .dataframe tbody tr th {\n",
       "        vertical-align: top;\n",
       "    }\n",
       "\n",
       "    .dataframe thead th {\n",
       "        text-align: right;\n",
       "    }\n",
       "</style>\n",
       "<table border=\"1\" class=\"dataframe\">\n",
       "  <thead>\n",
       "    <tr style=\"text-align: right;\">\n",
       "      <th></th>\n",
       "      <th>bedroomcnt</th>\n",
       "      <th>bathroomcnt</th>\n",
       "      <th>yearbuilt</th>\n",
       "      <th>taxamount</th>\n",
       "      <th>fips</th>\n",
       "      <th>area</th>\n",
       "    </tr>\n",
       "  </thead>\n",
       "  <tbody>\n",
       "    <tr>\n",
       "      <th>286683</th>\n",
       "      <td>4.0</td>\n",
       "      <td>2.0</td>\n",
       "      <td>1960.0</td>\n",
       "      <td>6599.46</td>\n",
       "      <td>6037.0</td>\n",
       "      <td>1515.0</td>\n",
       "    </tr>\n",
       "    <tr>\n",
       "      <th>1901770</th>\n",
       "      <td>4.0</td>\n",
       "      <td>3.0</td>\n",
       "      <td>1960.0</td>\n",
       "      <td>6262.82</td>\n",
       "      <td>6037.0</td>\n",
       "      <td>1824.0</td>\n",
       "    </tr>\n",
       "    <tr>\n",
       "      <th>1354840</th>\n",
       "      <td>3.0</td>\n",
       "      <td>3.0</td>\n",
       "      <td>1979.0</td>\n",
       "      <td>7420.02</td>\n",
       "      <td>6059.0</td>\n",
       "      <td>2373.0</td>\n",
       "    </tr>\n",
       "    <tr>\n",
       "      <th>242185</th>\n",
       "      <td>3.0</td>\n",
       "      <td>2.0</td>\n",
       "      <td>1971.0</td>\n",
       "      <td>3946.59</td>\n",
       "      <td>6037.0</td>\n",
       "      <td>1405.0</td>\n",
       "    </tr>\n",
       "    <tr>\n",
       "      <th>1718556</th>\n",
       "      <td>3.0</td>\n",
       "      <td>2.0</td>\n",
       "      <td>1955.0</td>\n",
       "      <td>1079.25</td>\n",
       "      <td>6037.0</td>\n",
       "      <td>1061.0</td>\n",
       "    </tr>\n",
       "  </tbody>\n",
       "</table>\n",
       "</div>"
      ],
      "text/plain": [
       "         bedroomcnt  bathroomcnt  yearbuilt  taxamount    fips    area\n",
       "286683          4.0          2.0     1960.0    6599.46  6037.0  1515.0\n",
       "1901770         4.0          3.0     1960.0    6262.82  6037.0  1824.0\n",
       "1354840         3.0          3.0     1979.0    7420.02  6059.0  2373.0\n",
       "242185          3.0          2.0     1971.0    3946.59  6037.0  1405.0\n",
       "1718556         3.0          2.0     1955.0    1079.25  6037.0  1061.0"
      ]
     },
     "execution_count": 40,
     "metadata": {},
     "output_type": "execute_result"
    }
   ],
   "source": [
    "X_test.head()"
   ]
  },
  {
   "cell_type": "code",
   "execution_count": 42,
   "id": "e7b1d987-e1cf-4442-ac8a-8861a300d3c7",
   "metadata": {},
   "outputs": [
    {
     "name": "stdout",
     "output_type": "stream",
     "text": [
      "RMSE for OLS using LinearRegression\n",
      "Training/In-Sample:  38454.95351374172 \n",
      "Validation/Out-of-Sample:  38038.274041198194\n",
      "\n",
      "Test/Out-of-Sample 38127.60378034213\n"
     ]
    }
   ],
   "source": [
    "lm = LinearRegression(normalize=True)\n",
    "\n",
    "lm.fit(X_train, y_train.taxvalue)\n",
    "\n",
    "y_train['taxvalue_pred_lm'] = lm.predict(X_train)\n",
    "\n",
    "# evaluate: rmse\n",
    "rmse_train = mean_squared_error(y_train.taxvalue, y_train.taxvalue_pred_lm) ** (1/2)\n",
    "\n",
    "# predict validate\n",
    "y_validate['taxvalue_pred_lm'] = lm.predict(X_validate)\n",
    "\n",
    "# evaluate: rmse\n",
    "rmse_validate = mean_squared_error(y_validate.taxvalue, y_validate.taxvalue_pred_lm) ** (1/2)\n",
    "\n",
    "# predict test\n",
    "y_test['taxvalue_pred_lm'] = lm.predict(X_test)\n",
    "\n",
    "# evaluate: rmse\n",
    "rmse_test = mean_squared_error(y_test.taxvalue, y_test.taxvalue_pred_lm) ** (1/2)\n",
    "\n",
    "\n",
    "print(\"RMSE for OLS using LinearRegression\\nTraining/In-Sample: \", rmse_train, \n",
    "      \"\\nValidation/Out-of-Sample: \", rmse_validate)\n",
    "print(\"\\nTest/Out-of-Sample\", rmse_test)"
   ]
  },
  {
   "cell_type": "code",
   "execution_count": null,
   "id": "75204195-fd2d-4cf8-a444-2d2557f2241c",
   "metadata": {},
   "outputs": [],
   "source": []
  }
 ],
 "metadata": {
  "kernelspec": {
   "display_name": "Python 3",
   "language": "python",
   "name": "python3"
  },
  "language_info": {
   "codemirror_mode": {
    "name": "ipython",
    "version": 3
   },
   "file_extension": ".py",
   "mimetype": "text/x-python",
   "name": "python",
   "nbconvert_exporter": "python",
   "pygments_lexer": "ipython3",
   "version": "3.8.8"
  }
 },
 "nbformat": 4,
 "nbformat_minor": 5
}
