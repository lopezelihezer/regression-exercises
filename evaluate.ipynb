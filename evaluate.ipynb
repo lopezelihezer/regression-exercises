{
 "cells": [
  {
   "cell_type": "markdown",
   "id": "732238e4-28bc-49ce-9265-37c7636e6b30",
   "metadata": {},
   "source": [
    "# Evaluating Regression Models Exercises"
   ]
  },
  {
   "cell_type": "markdown",
   "id": "01b13ad6-6971-4e2e-a10e-1b582ea6a985",
   "metadata": {},
   "source": [
    "1. Load the tips dataset from either pydataset or seaborn"
   ]
  },
  {
   "cell_type": "code",
   "execution_count": null,
   "id": "46af5f73-051e-4ec6-b522-aae3df804250",
   "metadata": {},
   "outputs": [],
   "source": []
  }
 ],
 "metadata": {
  "kernelspec": {
   "display_name": "Python 3",
   "language": "python",
   "name": "python3"
  },
  "language_info": {
   "codemirror_mode": {
    "name": "ipython",
    "version": 3
   },
   "file_extension": ".py",
   "mimetype": "text/x-python",
   "name": "python",
   "nbconvert_exporter": "python",
   "pygments_lexer": "ipython3",
   "version": "3.8.8"
  }
 },
 "nbformat": 4,
 "nbformat_minor": 5
}
